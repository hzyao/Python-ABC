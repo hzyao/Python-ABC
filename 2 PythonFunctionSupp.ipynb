{
 "cells": [
  {
   "attachments": {},
   "cell_type": "markdown",
   "metadata": {},
   "source": [
    "# 函数进阶"
   ]
  },
  {
   "attachments": {},
   "cell_type": "markdown",
   "metadata": {},
   "source": [
    "## 1 函数的多返回值\n",
    "如果一个函数要有多个返回值，我们只需按照返回值的顺序，写对应顺序的多个变量接受即可。\n",
    "变量之间用逗号隔开，支持不同类型的数据`return`。"
   ]
  },
  {
   "cell_type": "code",
   "execution_count": 1,
   "metadata": {},
   "outputs": [
    {
     "name": "stdout",
     "output_type": "stream",
     "text": [
      "6\n",
      "xmy\n",
      "True\n"
     ]
    }
   ],
   "source": [
    "# 使用多个变量接收多个返回值\n",
    "def multi_return():\n",
    "    return 6, \"xmy\", True\n",
    "\n",
    "x, y, z = multi_return()\n",
    "print(x)\n",
    "print(y)\n",
    "print(z)"
   ]
  },
  {
   "attachments": {},
   "cell_type": "markdown",
   "metadata": {},
   "source": [
    "## 2 函数的多种传参方式\n",
    "由于使用方式的不同，函数常见的参数使用方式可分为 4 种：\n",
    "- 位置参数\n",
    "- 关键字参数\n",
    "- 缺省参数\n",
    "- 不定长参数"
   ]
  },
  {
   "attachments": {},
   "cell_type": "markdown",
   "metadata": {},
   "source": [
    "### 2.1 位置参数\n",
    "位置参数：调用函数时根据函数定义的**参数位置**来传递参数。\n",
    "\n",
    "注：传递的参数和定义的参数**顺序及个数必须一致**。"
   ]
  },
  {
   "cell_type": "code",
   "execution_count": 7,
   "metadata": {},
   "outputs": [
    {
     "name": "stdout",
     "output_type": "stream",
     "text": [
      "姓名:xmy, 年龄:17, 性别:male\n"
     ]
    }
   ],
   "source": [
    "# 位置参数\n",
    "def test_func(name, age, gender):\n",
    "    print(f\"姓名:{name}, 年龄:{age}, 性别:{gender}\")\n",
    "\n",
    "test_func(\"xmy\", \"17\", \"male\")\n"
   ]
  },
  {
   "attachments": {},
   "cell_type": "markdown",
   "metadata": {},
   "source": [
    "### 2.2 关键字参数\n",
    "关键字参数：函数调用时通过“**键=值**”形式传递参数。\n",
    "\n",
    "作用：可以让函数更加清晰且易于使用，同时也清除了参数的顺序需求。\n",
    "\n",
    "注：函数调用时，如果有位置参数时，**位置参数必须在关键字参数的前面**，但关键字参数之间不存在先后顺序。"
   ]
  },
  {
   "cell_type": "code",
   "execution_count": 1,
   "metadata": {},
   "outputs": [
    {
     "name": "stdout",
     "output_type": "stream",
     "text": [
      "姓名:xmy, 年龄:17, 性别:male\n"
     ]
    }
   ],
   "source": [
    "# 关键字参数\n",
    "def test_func(name, age, gender):\n",
    "    print(f\"姓名:{name}, 年龄:{age}, 性别:{gender}\")\n",
    "\n",
    "test_func(\"xmy\", gender=\"male\", age=\"17\") # 可以与关键字参数混用，且可不按照参数定义顺序"
   ]
  },
  {
   "attachments": {},
   "cell_type": "markdown",
   "metadata": {},
   "source": [
    "### 2.3 缺省参数\n",
    "缺省参数：也叫默认参数，用于定义函数，为参数提供默认值，调用函数时可不传入该默认参数的值。\n",
    "\n",
    "作用：当调用函数时没有传递参数，就会默认使用缺省参数对应的值；若为缺省参数传入值则会修改缺省参数的默认值。\n",
    "\n",
    "注：所有**位置参数必须出现在默认参数前**，包括函数定义和调用，也就是说默认参数必须定义在最后。"
   ]
  },
  {
   "cell_type": "code",
   "execution_count": 3,
   "metadata": {},
   "outputs": [
    {
     "name": "stdout",
     "output_type": "stream",
     "text": [
      "姓名:xmy, 年龄:17, 性别:male\n",
      "姓名:run, 年龄:18, 性别:female\n"
     ]
    }
   ],
   "source": [
    "# 缺省参数\n",
    "def test_func(name, age, gender=\"male\"):\n",
    "    print(f\"姓名:{name}, 年龄:{age}, 性别:{gender}\")\n",
    "\n",
    "test_func(\"xmy\", \"17\")\n",
    "test_func(\"run\", 18, gender=\"female\")"
   ]
  },
  {
   "attachments": {},
   "cell_type": "markdown",
   "metadata": {},
   "source": [
    "### 2.4 不定长参数\n",
    "不定长参数：不定长参数也叫可变参数，用于不确定调用的时候会传递多少个参数（包括不传参）的场景。\n",
    "\n",
    "作用：调用函数时若不确定参数个数，可以使用不定长参数。\n",
    "\n",
    "不定长参数的类型：\n",
    "1. 位置传递：以`*`标记一个形式参数，以**元组**的形式接受参数，一般命名为`args`。\n",
    "2. 关键字传递：以`**`标记一个形式参数，以**字典**的形式接受参数，一般命名为`kwargs`。"
   ]
  },
  {
   "cell_type": "code",
   "execution_count": 10,
   "metadata": {},
   "outputs": [
    {
     "name": "stdout",
     "output_type": "stream",
     "text": [
      "args参数类型是:<class 'tuple'>,内容是(666, 'xmy')\n",
      "kwargs参数类型是:<class 'dict'>,内容是{'num': 666, 'name': 'xmy'}\n"
     ]
    }
   ],
   "source": [
    "# 不定长参数\n",
    "## 位置传递\n",
    "def test_func(*args):\n",
    "    print(f\"args参数类型是:{type(args)},内容是{args}\")\n",
    "\n",
    "test_func(666, \"xmy\")\n",
    "\n",
    "## 关键字传递\n",
    "def test_func(**kwargs):\n",
    "    print(f\"kwargs参数类型是:{type(kwargs)},内容是{kwargs}\")\n",
    "\n",
    "test_func(num=666, name=\"xmy\")"
   ]
  },
  {
   "attachments": {},
   "cell_type": "markdown",
   "metadata": {},
   "source": [
    "## 3 匿名函数"
   ]
  },
  {
   "attachments": {},
   "cell_type": "markdown",
   "metadata": {},
   "source": [
    "### 3.1 函数作为参数传递\n",
    "在前面的学习中，我们一直使用的函数都是接受数据作为参数传入，像数字、字符串、字典、列表、元组等等。\n",
    "\n",
    "其实呢，**函数本身**也是可以作为参数传入另一个函数内进行使用的噢！\n",
    "\n",
    "作用：**计算逻辑的传递，而非数据的传递**。任何逻辑都可以自行定义并作为函数传入。"
   ]
  },
  {
   "cell_type": "code",
   "execution_count": 11,
   "metadata": {},
   "outputs": [
    {
     "name": "stdout",
     "output_type": "stream",
     "text": [
      "<class 'function'>\n",
      "3\n"
     ]
    }
   ],
   "source": [
    "# 函数作为参数传递\n",
    "## 定义一个函数，接受另一个函数作为参数传入\n",
    "def test_func(compute):\n",
    "    result = compute(1, 2)\n",
    "    print(type(compute))\n",
    "    print(result)\n",
    "\n",
    "## 定义一个函数，即将作为参数传入另一个函数\n",
    "def compute(x, y):\n",
    "    return x + y\n",
    "\n",
    "## 调用并传入函数\n",
    "test_func(compute)"
   ]
  },
  {
   "attachments": {},
   "cell_type": "markdown",
   "metadata": {},
   "source": [
    "### 3.2 lambda 匿名函数\n",
    "函数定义中：\n",
    "- `def`，可以定义**带有名称**的函数\n",
    "- `lambda`，可以定义匿名函数（**无名称**）\n",
    "有名称的函数，可以基于名称**重复使用**；而无名称的匿名函数，只可**临时使用一次**。\n",
    "\n",
    "匿名函数定义语法：`lambda 传入参数:函数体`\n",
    "- `lambda`是关键字，表示定义匿名函数；\n",
    "- 传入参数，表示匿名函数的形式参数，如：`x, y`表示接收 2 个形式参数；\n",
    "- 函数体，就是函数的执行逻辑，注：**只能写一行**，无法写多行代码；若需多行，应使用`def`定义带名称的函数。"
   ]
  },
  {
   "cell_type": "code",
   "execution_count": 36,
   "metadata": {},
   "outputs": [
    {
     "name": "stdout",
     "output_type": "stream",
     "text": [
      "3\n"
     ]
    }
   ],
   "source": [
    "# lambda 匿名函数\n",
    "## 定义一个函数，接受另一个函数作为参数传入\n",
    "def test_func(any):\n",
    "    result = any(1, 2)\n",
    "    print(result)\n",
    "\n",
    "## 通过 lambda 匿名函数形式，将匿名函数作为参数传入\n",
    "test_func(lambda x, y: x + y)\n",
    "\n",
    "# 以上使用 def 和 lambda 定义的函数功能完全一致，只不过 lambda 定义的函数是匿名的，无法二次使用。"
   ]
  }
 ],
 "metadata": {
  "kernelspec": {
   "display_name": "machine_learning",
   "language": "python",
   "name": "python3"
  },
  "language_info": {
   "codemirror_mode": {
    "name": "ipython",
    "version": 3
   },
   "file_extension": ".py",
   "mimetype": "text/x-python",
   "name": "python",
   "nbconvert_exporter": "python",
   "pygments_lexer": "ipython3",
   "version": "3.8.12"
  },
  "orig_nbformat": 4
 },
 "nbformat": 4,
 "nbformat_minor": 2
}
