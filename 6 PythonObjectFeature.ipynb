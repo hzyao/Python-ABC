{
 "cells": [
  {
   "cell_type": "markdown",
   "metadata": {},
   "source": [
    "# 面相对象的三大特性"
   ]
  },
  {
   "cell_type": "markdown",
   "metadata": {},
   "source": [
    "面相对象编程，是许多编程语言都支持的一种编程思想。简单来说就是，基于模板（类）去创建实体（对象），使用对象完成功能开发。\n",
    "\n",
    "面向对象包含三大主要特性：封装、继承、多态。"
   ]
  },
  {
   "cell_type": "markdown",
   "metadata": {},
   "source": [
    "## 1 封装\n",
    "\n",
    "### 1.1 什么是封装\n",
    "\n",
    "封装表示的是，将现实世界事物的**属性和行为**封装到类中，描述为**成员变量和成员方法**，从而完成程序对现实世界事物的描述。\n",
    "\n",
    "### 1.2 私有成员\n",
    "\n",
    "现实事物会有部分不公开的属性和行为，不对使用者开放。那么作为现实事物在程序中映射的类，当然也会支持啦！\n",
    "\n",
    "类中提供了**私有成员**的形式来支持，即**私有成员变量和私有成员方法**。其定义只需在变量名或方法名前加`__`（两个下划线），即可完成私有成员的设置。如：`__urrent_voltage`。\n",
    "\n",
    "注：私有成员方法无法直接被类对象使用，但可以被其它成员使用；私有变量也无法赋值，无法获取值。"
   ]
  },
  {
   "cell_type": "code",
   "execution_count": 1,
   "metadata": {},
   "outputs": [],
   "source": [
    "# 定义一个类，内含私有成员变量和私有成员方法\n",
    "class Phone:\n",
    "    __current_voltage = None\n",
    "\n",
    "    def __keep_single_core(self):\n",
    "        print(\"CPU single core run\")\n",
    "\n",
    "phone = Phone()\n",
    "\n",
    "phone.__current_voltage = 22        # 不报错，但无效\n",
    "# phone.__keep_single_core()        # 无法使用\n",
    "# print(phone.__current_voltage)    # 无法使用"
   ]
  },
  {
   "cell_type": "code",
   "execution_count": 2,
   "metadata": {},
   "outputs": [
    {
     "name": "stdout",
     "output_type": "stream",
     "text": [
      "CPU single core run\n",
      "5g no, single core\n"
     ]
    }
   ],
   "source": [
    "# 公开成员方法可以使用私有成员方法\n",
    "class Phone:\n",
    "    __current_voltage = 0.8\n",
    "\n",
    "    def __keep_single_core(self):\n",
    "        print(\"CPU single core run\")\n",
    "\n",
    "    def call_by_5g(self):\n",
    "        if self.__current_voltage >= 1:\n",
    "            print(\"5g ok\")\n",
    "        else:\n",
    "            self.__keep_single_core()\n",
    "            print(\"5g no, single core\")\n",
    "\n",
    "phone = Phone()\n",
    "phone.call_by_5g()"
   ]
  },
  {
   "cell_type": "code",
   "execution_count": 3,
   "metadata": {},
   "outputs": [
    {
     "name": "stdout",
     "output_type": "stream",
     "text": [
      "5g no, use 4g\n",
      "calling\n"
     ]
    }
   ],
   "source": [
    "# 练习：设计带有私有成员的手机\n",
    "class PHONE:\n",
    "    __is_5g_enable = False\n",
    "\n",
    "    def __check_5g(self):\n",
    "        if self.__is_5g_enable:\n",
    "            print(\"5g yes\")\n",
    "        else:\n",
    "            print(\"5g no, use 4g\")\n",
    "\n",
    "    def call_by_5g(self):\n",
    "        self.__check_5g()\n",
    "        print(\"calling\")\n",
    "\n",
    "phone = PHONE()\n",
    "\n",
    "phone.call_by_5g()"
   ]
  },
  {
   "cell_type": "markdown",
   "metadata": {},
   "source": [
    "## 2 继承\n",
    "\n",
    "### 2.1 什么是继承"
   ]
  },
  {
   "cell_type": "markdown",
   "metadata": {},
   "source": [
    "\n",
    "继承：就是一个类，继承（复制）另外一个类的成员变量和成员方法（不含私有）。"
   ]
  },
  {
   "cell_type": "code",
   "execution_count": null,
   "metadata": {},
   "outputs": [],
   "source": [
    "class 子类名(父类名0, 父类名1, ......, 父类名N):\n",
    "\t\t类内容体"
   ]
  },
  {
   "cell_type": "markdown",
   "metadata": {},
   "source": [
    "子类构建的类对象，可以：\n",
    "\n",
    "- 有自己的成员变量和成员方法；\n",
    "- 使用父类的成员变量和成员方法。"
   ]
  },
  {
   "cell_type": "markdown",
   "metadata": {},
   "source": [
    "### 2.2 继承的使用方式"
   ]
  },
  {
   "cell_type": "markdown",
   "metadata": {},
   "source": [
    "\n",
    "假如有一个类，如下："
   ]
  },
  {
   "cell_type": "code",
   "execution_count": 4,
   "metadata": {},
   "outputs": [],
   "source": [
    "# 原有类\n",
    "class Phone:\n",
    "    IMEI = None                 # 序列号\n",
    "    producer = \"xmy\"            # 厂商\n",
    "\n",
    "    def call_by_4g(self):\n",
    "        print(\"4g\")"
   ]
  },
  {
   "cell_type": "markdown",
   "metadata": {},
   "source": [
    "你想要在此基础上，增加一些新功能，我们是不是有两种方式：一种是从头开始重新设计，一种是在当前基础上进行修修补补。\n",
    "\n",
    "从头开始设计的话，像下面这样："
   ]
  },
  {
   "cell_type": "code",
   "execution_count": 5,
   "metadata": {},
   "outputs": [],
   "source": [
    "# 定义新类——从头设计\n",
    "class PhoneNew:\n",
    "    IMEI = None                 # 序列号\n",
    "    producer = \"xmy\"            # 厂商\n",
    "    faceid = 1324               # 面部识别\n",
    "\n",
    "    def call_by_4g(self):\n",
    "        print(\"4g\")\n",
    "\n",
    "    def call_by_5g(self):\n",
    "        print(\"5g\")"
   ]
  },
  {
   "cell_type": "markdown",
   "metadata": {},
   "source": [
    "是不是比较麻烦，相信大家一定更愿意在原有基础上。修修补补又是一年！那么我们就可以这样写："
   ]
  },
  {
   "cell_type": "code",
   "execution_count": 6,
   "metadata": {},
   "outputs": [],
   "source": [
    "# 定义新类——使用单继承\n",
    "class PhoneNew(Phone):\n",
    "    faceid = 1324               # 面部识别\n",
    "\n",
    "    def call_by_5g(self):\n",
    "        print(\"5g\")"
   ]
  },
  {
   "cell_type": "code",
   "execution_count": 7,
   "metadata": {},
   "outputs": [
    {
     "name": "stdout",
     "output_type": "stream",
     "text": [
      "xmy\n",
      "4g\n",
      "5g\n"
     ]
    }
   ],
   "source": [
    "# 测试\n",
    "phone = PhoneNew()\n",
    "print(phone.producer)\n",
    "phone.call_by_4g()              # 原有类中的旧功能与新类中的新功能均可被调用\n",
    "phone.call_by_5g()\n"
   ]
  },
  {
   "cell_type": "markdown",
   "metadata": {},
   "source": [
    "这样就可以完成类的**单继承**。"
   ]
  },
  {
   "cell_type": "markdown",
   "metadata": {},
   "source": [
    "\n",
    "\n",
    "继承分为**单继承**和**多继承**。\n",
    "\n",
    "单继承：一个类继承另一个类。\n",
    "\n",
    "语法："
   ]
  },
  {
   "cell_type": "code",
   "execution_count": null,
   "metadata": {},
   "outputs": [],
   "source": [
    "class 类名(父类名):\n",
    "\t\t类内容体"
   ]
  },
  {
   "cell_type": "markdown",
   "metadata": {},
   "source": [
    "多继承：一个类继承多个类，按照顺序**从左向右依次继承**（后续介绍）。\n",
    "\n",
    "它的写法也很简单，语法如下："
   ]
  },
  {
   "cell_type": "code",
   "execution_count": null,
   "metadata": {},
   "outputs": [],
   "source": [
    "class 类名(父类名0, 父类名1, ......, 父类名N):\n",
    "\t\t类内容体"
   ]
  },
  {
   "cell_type": "code",
   "execution_count": 11,
   "metadata": {},
   "outputs": [
    {
     "name": "stdout",
     "output_type": "stream",
     "text": [
      "4g\n",
      "NFC读卡\n",
      "红外遥控已开启\n",
      "xmy\n"
     ]
    }
   ],
   "source": [
    "## 定义新类1\n",
    "class NFCReader:\n",
    "    nfc = \"第六代\"\n",
    "    producer = \"run\"\n",
    "\n",
    "    def read_card(self):\n",
    "        print(\"NFC读卡\")\n",
    "\n",
    "    def write_card(self):\n",
    "        print(\"NFC写卡\")\n",
    "\n",
    "## 定义新类2\n",
    "class RemoteControl:\n",
    "    rc = \"红外遥控\"\n",
    "\n",
    "    def control(self):\n",
    "        print(\"红外遥控已开启\")\n",
    "\n",
    "\n",
    "# 定义新类——使用多继承\n",
    "class MyPhone(Phone, NFCReader, RemoteControl):\n",
    "    pass                # pass关键字用于补全语法（后续会详细介绍）\n",
    "\n",
    "\n",
    "phone = MyPhone()\n",
    "phone.call_by_4g()\n",
    "phone.read_card()\n",
    "phone.control()\n",
    "print(phone.producer)\n"
   ]
  },
  {
   "cell_type": "markdown",
   "metadata": {},
   "source": [
    "注：多个父类中，如果已经有同名的方法或属性，那么会**默认**以继承顺序（从左到右）为优先级。即**先继承的保留，后继承的被覆盖**。比如上述例子中的`producer`，在`Phone`类中为`xmy`，在`NFCReader`类中为`run`，在使用多继承的新类`MyPhone`中，`producer`输出为`xmy`，即先继承的`Phone`类中的`producer`。\n",
    "\n",
    "> **这里展示代码输出结果不太方便，大家可以去 https://github.com/hzyao/Python-Cookbook 进行查看！**\n",
    ">"
   ]
  },
  {
   "cell_type": "markdown",
   "metadata": {},
   "source": [
    "### 2.3 pass 关键字的作用"
   ]
  },
  {
   "cell_type": "markdown",
   "metadata": {},
   "source": [
    "`pass`是占位语句，它的作用就是帮助我们补全语法，用来保证函数（方法）或类定义的完整性，表示无内容、空的意思。"
   ]
  },
  {
   "cell_type": "markdown",
   "metadata": {},
   "source": [
    "比如我们在写一个类的时候，这个类继承了很多个别的类（像上面的`MyPhone`类），它所包含的功能已经满足我们的需求了，我们不想再添加新的功能。但是由于语法需求，在定义类的时候，类的内部必须有内容，这个时候我们就可以用`pass`替代一下，以保证我们的语法不报错。pass本身其实就表示这里是空的，啥也莫得！"
   ]
  },
  {
   "cell_type": "markdown",
   "metadata": {},
   "source": [
    "### 2.4 复写和调用父类成员\n",
    "\n",
    "首先，什么是复写呢？\n",
    "\n",
    "复写其实就是对父类的成员属性或成员方法进行重新定义。\n",
    "\n",
    "子类继承父类的成员属性和成员方法后，如果对其“不满意”，可以进行复写，即在子类中重新定义同名的属性或方法即可。"
   ]
  },
  {
   "cell_type": "code",
   "execution_count": 12,
   "metadata": {},
   "outputs": [
    {
     "name": "stdout",
     "output_type": "stream",
     "text": [
      "singleCPU\n",
      "5g\n",
      "closeCPU\n",
      "run\n"
     ]
    }
   ],
   "source": [
    "# 定义父类\n",
    "class Phone:\n",
    "    IMEI = None                 # 序列号\n",
    "    producer = \"xmy\"            # 厂商\n",
    "\n",
    "    def call_by_5g(self):\n",
    "        print(\"5g\")\n",
    "\n",
    "# 定义子类，复写父类成员\n",
    "class MyPhone(Phone):\n",
    "    producer = \"run\"            # 复写父类的成员属性\n",
    "\n",
    "    def call_by_5g(self):       # 复写父类的成员方法\n",
    "        print(\"singleCPU\")\n",
    "        print(\"5g\")\n",
    "        print(\"closeCPU\")\n",
    "\n",
    "phone = MyPhone()\n",
    "phone.call_by_5g()\n",
    "print(phone.producer)"
   ]
  },
  {
   "cell_type": "markdown",
   "metadata": {},
   "source": [
    "一旦复写父类成员，那么类对象调用成员的时候，就会调用复写后的新成员。\n",
    "\n",
    "如果需要使用被复写的父类的成员，就需要特殊的调用方式：\n",
    "\n",
    "1. 调用父类成员\n",
    "    \n",
    "    使用成员变量：`父类名.成员变量`\n",
    "    \n",
    "    使用成员方法：`父类名.成员方法(self)`"
   ]
  },
  {
   "cell_type": "code",
   "execution_count": 13,
   "metadata": {},
   "outputs": [
    {
     "name": "stdout",
     "output_type": "stream",
     "text": [
      "singleCPU\n",
      "父类的厂商是: xmy\n",
      "5g\n",
      "closeCPU\n",
      "run\n"
     ]
    }
   ],
   "source": [
    "# 调用父类成员方法1\n",
    "class MyPhone(Phone):\n",
    "    producer = \"run\"            # 复写父类的成员属性\n",
    "\n",
    "    def call_by_5g(self):       # 复写父类的成员方法\n",
    "        print(\"singleCPU\")\n",
    "        # 方法1\n",
    "        print(f\"父类的厂商是: {Phone.producer}\")\n",
    "        Phone.call_by_5g(self)\n",
    "        print(\"closeCPU\")\n",
    "\n",
    "phone = MyPhone()\n",
    "phone.call_by_5g()\n",
    "print(phone.producer)"
   ]
  },
  {
   "cell_type": "markdown",
   "metadata": {},
   "source": [
    "2. 使用`super()`调用父类成员\n",
    "    \n",
    "    使用成员变量：`super().成员变量`\n",
    "    \n",
    "    使用成员方法：`super().成员方法()`"
   ]
  },
  {
   "cell_type": "code",
   "execution_count": 15,
   "metadata": {},
   "outputs": [
    {
     "name": "stdout",
     "output_type": "stream",
     "text": [
      "singleCPU\n",
      "父类的厂商是: xmy\n",
      "5g\n",
      "closeCPU\n",
      "run\n"
     ]
    }
   ],
   "source": [
    "# 调用父类成员方法2\n",
    "class MyPhone(Phone):\n",
    "    producer = \"run\"            # 复写父类的成员属性\n",
    "\n",
    "    def call_by_5g(self):       # 复写父类的成员方法\n",
    "        print(\"singleCPU\")\n",
    "        # 方法2\n",
    "        print(f\"父类的厂商是: {super().producer}\")\n",
    "        super().call_by_5g()    # 注意这里就不需要传self进去啦\n",
    "        print(\"closeCPU\")\n",
    "\n",
    "phone = MyPhone()\n",
    "phone.call_by_5g()\n",
    "print(phone.producer)"
   ]
  },
  {
   "cell_type": "markdown",
   "metadata": {},
   "source": [
    "注：只可以在子类内部调用父类的同名成员，子类的实体类对象调用默认是调用子类复写的。"
   ]
  },
  {
   "cell_type": "markdown",
   "metadata": {},
   "source": [
    "## 3 多态\n",
    "\n",
    "### 3.1 什么是多态\n",
    "\n",
    "多态其实就是指多种状态，即完成某个行为时，使用不同的对象获得不同的状态。"
   ]
  },
  {
   "cell_type": "code",
   "execution_count": 17,
   "metadata": {},
   "outputs": [
    {
     "name": "stdout",
     "output_type": "stream",
     "text": [
      "汪汪汪\n",
      "喵喵喵\n"
     ]
    }
   ],
   "source": [
    "# 演示面向对象的多态特性以及抽象类（接口）的使用\n",
    "class Animal:\n",
    "    def speak(self):\n",
    "        pass\n",
    "\n",
    "class Dog(Animal):\n",
    "    def speak(self):\n",
    "        print(\"汪汪汪\")\n",
    "\n",
    "class Cat(Animal):\n",
    "    def speak(self):\n",
    "        print(\"喵喵喵\")\n",
    "\n",
    "def make_noise(animal: Animal):     # 接受对象为animal，并注解类型为Animal（类型注解如有需求会在后续进行详细介绍）\n",
    "    \"\"\"制造点噪音，需要传入Animal对象\"\"\"\n",
    "    animal.speak()\n",
    "\n",
    "# 使用两个子类对象来调用函数\n",
    "dog = Dog()\n",
    "cat = Cat()\n",
    "\n",
    "make_noise(dog)\n",
    "make_noise(cat)                     # 同样的行为，使用不同的对象获得不同的运行状态，也就是我们介绍的多态"
   ]
  },
  {
   "cell_type": "markdown",
   "metadata": {},
   "source": [
    "上述我们可以看出，**同样的行为（函数），传入不同的对象，得到不同的状态。**\n",
    "\n",
    "多态常会用在继承关系上，比如：\n",
    "\n",
    "- 函数（方法）形参声明接收父类对象（类型注解如有需求会在后续进行详细介绍）"
   ]
  },
  {
   "cell_type": "code",
   "execution_count": 18,
   "metadata": {},
   "outputs": [],
   "source": [
    "def make_noise(animal: Animal):   # 接受对象为animal，并注解类型为Animal\n",
    "    animal.speak()"
   ]
  },
  {
   "cell_type": "markdown",
   "metadata": {},
   "source": [
    "- 实际传入父类的子类对象进行工作"
   ]
  },
  {
   "cell_type": "code",
   "execution_count": 19,
   "metadata": {},
   "outputs": [
    {
     "name": "stdout",
     "output_type": "stream",
     "text": [
      "汪汪汪\n",
      "喵喵喵\n"
     ]
    }
   ],
   "source": [
    "dog = Dog()\n",
    "cat = Cat()\n",
    "\n",
    "make_noise(dog)\n",
    "make_noise(cat) "
   ]
  },
  {
   "cell_type": "markdown",
   "metadata": {},
   "source": [
    "也就是说，定义函数（方法），通过类型注解声明需要父类对象，实际传入子类对象进行工作，从而获得不同的工作状态。"
   ]
  },
  {
   "cell_type": "markdown",
   "metadata": {},
   "source": [
    "### 3.2 抽象类（接口）的编程思想\n",
    "\n",
    "可能大家已经发现了，我们前面提到的父类`Animal`的`speak`方法，是空实现。"
   ]
  },
  {
   "cell_type": "code",
   "execution_count": null,
   "metadata": {},
   "outputs": [],
   "source": [
    "class Animal:\n",
    "    def speak(self):\n",
    "        pass\n",
    "\n",
    "class Dog(Animal):\n",
    "    def speak(self):\n",
    "        print(\"汪汪汪\")\n",
    "\n",
    "class Cat(Animal):\n",
    "    def speak(self):\n",
    "        print(\"喵喵喵\")"
   ]
  },
  {
   "cell_type": "markdown",
   "metadata": {},
   "source": [
    "那么，这种设计有什么含义呢？\n",
    "\n",
    "其实就是希望用父类来确定有哪些方法，具体的方法实现由子类自行决定。这种写法就叫做**抽象类**（也可以称为**接口**）。"
   ]
  },
  {
   "cell_type": "markdown",
   "metadata": {},
   "source": [
    "抽象类：含有抽象方法的类。\n",
    "\n",
    "抽象方法：没有具体实现的方法，也就是方法体是空实现的（`pass`）。"
   ]
  },
  {
   "cell_type": "markdown",
   "metadata": {},
   "source": [
    "\n",
    "那么，我们为什么要使用抽象类呢？\n",
    "\n",
    "我们来举一个形象的例子帮助大家理解！比如生产空调，我们可以提出一个空调制作标准，要求空调可以制冷、可以制热、左右摇摆等等。现在有了生产空调的标准，那么各个厂家就可以按照这个标准去自行实现，他们可以有不一样的核心技术，但是最终达到这个制造标准的要求就可以啦！\n",
    "\n",
    "抽象类呢，就可以看作是一个标准，它包含了一些抽象的方法，要求子类必须实现。"
   ]
  },
  {
   "cell_type": "code",
   "execution_count": 16,
   "metadata": {},
   "outputs": [
    {
     "name": "stdout",
     "output_type": "stream",
     "text": [
      "Midea cool\n",
      "GREE cool\n"
     ]
    }
   ],
   "source": [
    "# 演示抽象类\n",
    "class AC:\n",
    "    def cool_wind(self):\n",
    "        \"\"\"制冷\"\"\"\n",
    "        pass\n",
    "\n",
    "    def hot_wind(self):\n",
    "        \"\"\"制热\"\"\"\n",
    "        pass\n",
    "\n",
    "    def swing_lr(self):\n",
    "        \"\"\"左右摇摆\"\"\"\n",
    "        pass\n",
    "\n",
    "\n",
    "# Midea_AC 继承 AC\n",
    "class Midea_AC(AC):\n",
    "    def cool_wind(self):\n",
    "        print(\"Midea cool\")\n",
    "\n",
    "    def hot_wind(self):\n",
    "        print(\"Midea hot\")\n",
    "\n",
    "    def swing_lr(self):\n",
    "        print(\"Midea swing\")\n",
    "\n",
    "# GREE_AC 继承 AC\n",
    "class GREE_AC(AC):\n",
    "    def cool_wind(self):\n",
    "        print(\"GREE cool\")\n",
    "\n",
    "    def hot_wind(self):\n",
    "        print(\"GREE hot\")\n",
    "\n",
    "    def swing_lr(self):\n",
    "        print(\"GREE swing\")\n",
    "\n",
    "# 定义一个制冷函数\n",
    "def make_cool(ac: AC):          # 通过类型注解告诉我们以AC作为传入对象\n",
    "    ac.cool_wind()              # 调用制冷方法\n",
    "\n",
    "# 构建具体子类进行具体实现，而不是AC，因为AC为抽象类，是用来做顶层设计的，里面方法为空\n",
    "midea_ac = Midea_AC()\n",
    "gree_ac = GREE_AC()\n",
    "\n",
    "# 调用制冷函数传入子类对象\n",
    "make_cool(midea_ac)\n",
    "make_cool(gree_ac)"
   ]
  },
  {
   "cell_type": "markdown",
   "metadata": {},
   "source": [
    "从上面我们也可以看出，抽象类一般会配合多态完成以下任务：\n",
    "\n",
    "- 抽象的父类设计（设计标准）\n",
    "- 具体的子类实现（实现标准）"
   ]
  },
  {
   "cell_type": "markdown",
   "metadata": {},
   "source": [
    "最后我们总结一下！抽象类主要用于做顶层设计（也就是设计标准），以便子类做具体实现。这也是对子类的一种软性约束，要求子类必须复写（实现）父类的一些方法，并配合多态使用，从而获得不同的工作状态。"
   ]
  }
 ],
 "metadata": {
  "kernelspec": {
   "display_name": "machine_learning",
   "language": "python",
   "name": "python3"
  },
  "language_info": {
   "codemirror_mode": {
    "name": "ipython",
    "version": 3
   },
   "file_extension": ".py",
   "mimetype": "text/x-python",
   "name": "python",
   "nbconvert_exporter": "python",
   "pygments_lexer": "ipython3",
   "version": "3.8.12"
  },
  "orig_nbformat": 4
 },
 "nbformat": 4,
 "nbformat_minor": 2
}
