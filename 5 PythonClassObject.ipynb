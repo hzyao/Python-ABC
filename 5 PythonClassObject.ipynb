{
 "cells": [
  {
   "cell_type": "markdown",
   "metadata": {},
   "source": [
    "# 类和对象\n",
    "\n",
    "生活中，我们可以使用设计表格、生产表格、填写表格的形式组织数据。来！咱们把它和程序中的**类**对比一下！\n",
    "\n",
    "- 设计表格 —— 设计类（class）\n",
    "- 打印表格 —— 创建对象\n",
    "- 填写表格 —— 对象属性赋值\n",
    "\n",
    "也就是说我们可以使用类去封装属性，并基于类创建出一个个的对象来使用。\n",
    "\n",
    "## 1 类和对象\n",
    "\n",
    "类的使用语法："
   ]
  },
  {
   "cell_type": "code",
   "execution_count": null,
   "metadata": {},
   "outputs": [],
   "source": [
    "class 类名称:\n",
    "\t\t类的属性\n",
    "\t\t类的行为\n",
    "\n",
    "对象 = 类名称()\n",
    "\"\"\"\n",
    "1. class是关键字，表示要定义类啦\n",
    "2. 类的属性，即定义在类中的变量（成员变量）\n",
    "3. 类的行为，即定义在类中的函数（成员方法）\n",
    "\"\"\""
   ]
  },
  {
   "cell_type": "markdown",
   "metadata": {},
   "source": [
    "类的行为（方法）到底是啥子呢？"
   ]
  },
  {
   "cell_type": "code",
   "execution_count": 3,
   "metadata": {},
   "outputs": [
    {
     "name": "stdout",
     "output_type": "stream",
     "text": [
      "run\n",
      "18\n"
     ]
    }
   ],
   "source": [
    "class Student:\n",
    "\t\tname = None\n",
    "\t\tage = None\n",
    "\t\t\n",
    "\t\tdef say_hi(self):\n",
    "\t\t\t\tprint(f\"嗨大家好！我是{self.name}\")\n",
    "\n",
    "Student.name = \"run\"\n",
    "Student.age = 18\n",
    "\n",
    "print(Student.name)\n",
    "print(Student.age)"
   ]
  },
  {
   "cell_type": "markdown",
   "metadata": {},
   "source": [
    "从上面我们可以看出，类中不仅可以定义属性用来记录数据，也可以定义函数，用来记录行为。其中：\n",
    "\n",
    "- 类中定义的属性（变量），我们把它叫做：**成员变量**\n",
    "- 类中定义的行为（函数），我们把它叫做：**成员方法**\n",
    "\n",
    "以后，咱们就把定义在类内部的函数叫做**方法**了噢！\n"
   ]
  },
  {
   "cell_type": "markdown",
   "metadata": {},
   "source": [
    "\n",
    "\n",
    "成员方法的定义语法：\n",
    "\n",
    "在类中定义成员方法和定义函数基本一致，但仍有细微区别:"
   ]
  },
  {
   "cell_type": "code",
   "execution_count": null,
   "metadata": {},
   "outputs": [],
   "source": [
    "def 方法名(self, 形参1, ......, 形参N):\n",
    "\t    方法体"
   ]
  },
  {
   "cell_type": "markdown",
   "metadata": {},
   "source": [
    "在方法定义的参数列表中，有一个`self`关键字，`self`关键字是成员方法定义的时候**必须要填写**的。它用来表示**类对象本身**的意思，当我们使用类对象调用方法的是，`self`会自动被python传入。**在方法内部，想要访问类的成员变量，必须使用`self`**。\n",
    "\n",
    "注：`self`关键字，尽管出现在参数列表中，但是不占用参数位置，传参的时候可以忽略它。"
   ]
  },
  {
   "cell_type": "code",
   "execution_count": 13,
   "metadata": {},
   "outputs": [
    {
     "name": "stdout",
     "output_type": "stream",
     "text": [
      "Hello 大家好 我是run\n",
      "Hello 大家好 我是run 很高兴认识大家！\n",
      "Hello 大家好 我是xmy\n",
      "Hello 大家好 我是xmy 嘿嘿嘿！\n"
     ]
    }
   ],
   "source": [
    "class Student:\n",
    "\t\tname = None\n",
    "\t\tdef say_hi(self):\n",
    "\t\t\t\tprint(f\"Hello 大家好 我是{self.name}\")\n",
    "\t\t\n",
    "\t\tdef say_hi2(self, msg):\n",
    "\t\t\t\tprint(f\"Hello 大家好 我是{self.name} {msg}\")\n",
    "\n",
    "stu1 = Student()\n",
    "stu1.name = \"run\"\n",
    "stu1.say_hi()                     # 调用的时候无需传参\n",
    "stu1.say_hi2(\"很高兴认识大家！\")     # 调用的时候，需要传msg参数\n",
    "\n",
    "stu2 = Student()\n",
    "stu2.name = \"xmy\"\n",
    "stu2.say_hi()\n",
    "stu2.say_hi2(\"嘿嘿嘿！\") "
   ]
  },
  {
   "cell_type": "markdown",
   "metadata": {},
   "source": [
    "在传入参数的时候，`self`可以说是是透明的，不用理它！参数`msg`各玩各的！\n"
   ]
  },
  {
   "cell_type": "markdown",
   "metadata": {},
   "source": [
    "\n",
    "所以，类和成员方法的定义语法如下："
   ]
  },
  {
   "cell_type": "code",
   "execution_count": null,
   "metadata": {},
   "outputs": [],
   "source": [
    "class 类名称:\n",
    "\t\t成员变量\n",
    "\t\t\n",
    "\t\tdef 成员方法(self, 参数列表):\n",
    "\t\t\t\t成员方法体\n",
    "\n",
    "对象 = 类名称()"
   ]
  },
  {
   "cell_type": "markdown",
   "metadata": {},
   "source": [
    "我们已经了解到，基于类创建对象的语法为`对象 = 类名称()`。\n"
   ]
  },
  {
   "cell_type": "markdown",
   "metadata": {},
   "source": [
    "\n",
    "那么我们为什么一定要创建对象才能使用呢？\n",
    "\n",
    "类只是一种程序内的“设计图纸”，需要基于图纸产生实体（也就是对象），才能正常工作。这种套路就是我们所说的“**面向对象编程**” —— 设计类，基于类创建对象，**使用对象来完成具体的工作**。"
   ]
  },
  {
   "cell_type": "code",
   "execution_count": 11,
   "metadata": {},
   "outputs": [
    {
     "name": "stdout",
     "output_type": "stream",
     "text": [
      "id is 1220, price is 9.99\n",
      "beep\n",
      "id is 0324, price is 8.88\n",
      "beep\n"
     ]
    }
   ],
   "source": [
    "# 练习：设计一个闹钟类\n",
    "class Clock:\n",
    "    id = None       # 序列号\n",
    "    price = None    # 价格\n",
    "\n",
    "    def ring(self):\n",
    "        print(\"beep\")\n",
    "\n",
    "clock1 = Clock()\n",
    "clock1.id = \"1220\"\n",
    "clock1.price = 9.99\n",
    "print(f\"id is {clock1.id}, price is {clock1.price}\") \n",
    "clock1.ring()\n",
    "\n",
    "clock2 = Clock()\n",
    "clock2.id = \"0324\"\n",
    "clock2.price = 8.88\n",
    "print(f\"id is {clock2.id}, price is {clock2.price}\") \n",
    "clock2.ring()\n"
   ]
  },
  {
   "cell_type": "markdown",
   "metadata": {},
   "source": [
    "## 2 使用构造方法向成员变量赋值\n",
    "\n",
    "在之前的学习中，我们为对象的属性赋值需要依次进行，略显繁琐。其实呀，咱们可以用更高效的方式把这个搞定！就像函数传参那种形式一样对属性进行赋值！\n",
    "\n",
    "Python 的类可以使用`**__init__()**`方法，称为**构造方法**。\n",
    "\n",
    "- 在创建类对象（构造类）的时候，**会自动执行**。\n",
    "- 在创建类对象（构造类）的时候，将**传入参数自动传递给__init__方法使用**。"
   ]
  },
  {
   "cell_type": "code",
   "execution_count": 13,
   "metadata": {},
   "outputs": [
    {
     "name": "stdout",
     "output_type": "stream",
     "text": [
      "done\n",
      "run\n",
      "18\n",
      "0324\n"
     ]
    }
   ],
   "source": [
    "# 构造方法的名称：__init__\n",
    "class Student:\n",
    "    name = None\n",
    "    age = None\n",
    "    tel = None      # 这些可以省略 \n",
    "\n",
    "    def __init__(self, name, age, tel):\n",
    "        self.name = name\n",
    "        self.age = age\n",
    "        self.tel = tel\n",
    "        print(\"done\")\n",
    "\n",
    "stu = Student(\"run\", 18, \"0324\")\n",
    "print(stu.name)\n",
    "print(stu.age)\n",
    "print(stu.tel)"
   ]
  },
  {
   "cell_type": "markdown",
   "metadata": {},
   "source": [
    "注：构造方法也是成员方法，不要忘记在参数列表中提供`self`；且在构造方法内定义成员变量，需要使用关键字`self`。"
   ]
  },
  {
   "cell_type": "code",
   "execution_count": 15,
   "metadata": {},
   "outputs": [
    {
     "name": "stdout",
     "output_type": "stream",
     "text": [
      "当前录入第1位学习信息，总共需录入10位学习信息\n",
      "学生1信息录入完成，信息为：【学生姓名：yhz, 年龄：18, 地址：1】\n",
      "当前录入第2位学习信息，总共需录入10位学习信息\n",
      "学生2信息录入完成，信息为：【学生姓名：lr, 年龄：17, 地址：1】\n",
      "当前录入第3位学习信息，总共需录入10位学习信息\n",
      "学生3信息录入完成，信息为：【学生姓名：run, 年龄：16, 地址：1】\n",
      "当前录入第4位学习信息，总共需录入10位学习信息\n",
      "学生4信息录入完成，信息为：【学生姓名：xmy, 年龄：18, 地址：1】\n",
      "当前录入第5位学习信息，总共需录入10位学习信息\n",
      "学生5信息录入完成，信息为：【学生姓名：dsz, 年龄：12, 地址：1】\n",
      "当前录入第6位学习信息，总共需录入10位学习信息\n",
      "学生6信息录入完成，信息为：【学生姓名：ly, 年龄：19, 地址：2】\n",
      "当前录入第7位学习信息，总共需录入10位学习信息\n",
      "学生7信息录入完成，信息为：【学生姓名：a, 年龄：1, 地址：1】\n",
      "当前录入第8位学习信息，总共需录入10位学习信息\n",
      "学生8信息录入完成，信息为：【学生姓名：b, 年龄：2, 地址：2】\n",
      "当前录入第9位学习信息，总共需录入10位学习信息\n",
      "学生9信息录入完成，信息为：【学生姓名：c, 年龄：3, 地址：3】\n",
      "当前录入第10位学习信息，总共需录入10位学习信息\n",
      "学生10信息录入完成，信息为：【学生姓名：x, 年龄：6, 地址：6】\n"
     ]
    }
   ],
   "source": [
    "# 练习：学生信息录入\n",
    "class Student:\n",
    "    def __init__(self):\n",
    "        self.name = input(\"请输入学生姓名：\")\n",
    "        self.age = int(input(\"请输入学生年龄：\"))\n",
    "        self.address = input(\"请输入学生地址：\")\n",
    "\n",
    "for i in range(1, 11):\n",
    "    print(f\"当前录入第{i}位学习信息，总共需录入10位学习信息\")\n",
    "    stu = Student()\n",
    "    print(f\"学生{i}信息录入完成，信息为：【学生姓名：{stu.name}, 年龄：{stu.age}, 地址：{stu.address}】\")"
   ]
  },
  {
   "cell_type": "markdown",
   "metadata": {},
   "source": [
    "## 3 其他内置类方法\n",
    "\n",
    "由于这些内置的类方法，各自有其各自特殊的功能，所以我们把它们称为**魔术方法**。\n",
    "\n",
    "魔术方法非常非常多，我们先了解常见的即可！例如：`__init__`（构造方法）、`__str__`（字符串方法）、`__lt__`（大于、小于符号比较）、`__le__`（大于等于、小于等于符号比较）、`__eq__`（==符号比较）等。\n",
    "\n",
    "### 3.1 __**str**__：字符串方法\n",
    "\n",
    "功能：控制类转换为字符串的行为。\n",
    "\n",
    "- 方法名：`__str__`\n",
    "- 返回值：字符串\n",
    "- 内容：自行定义"
   ]
  },
  {
   "cell_type": "code",
   "execution_count": 17,
   "metadata": {},
   "outputs": [
    {
     "name": "stdout",
     "output_type": "stream",
     "text": [
      "<__main__.Student object at 0x7fc63eded040>\n",
      "<__main__.Student object at 0x7fc63eded040>\n",
      "name:run, age:18\n",
      "name:run, age:18\n"
     ]
    }
   ],
   "source": [
    "# __str__ 字符串方法\n",
    "class Student:\n",
    "    def __init__(self, name, age):\n",
    "        self.name = name\n",
    "        self.age = age\n",
    "\n",
    "stu = Student(\"run\", 18)\n",
    "print(stu)\n",
    "print(str(stu)) # 会输出内存地址\n",
    "\n",
    "class Student:\n",
    "    def __init__(self, name, age):\n",
    "        self.name = name\n",
    "        self.age = age\n",
    "\n",
    "    def __str__(self):\n",
    "        return f\"name:{self.name}, age:{self.age}\"\n",
    "\n",
    "stu = Student(\"run\", 18)\n",
    "print(stu)\n",
    "print(str(stu))"
   ]
  },
  {
   "cell_type": "markdown",
   "metadata": {},
   "source": [
    "### 3.2 __lt__：<、> 符号比较\n",
    "\n",
    "功能：直接对2个对象进行比较是不可以的，但是在类中实现`__lt__`方法，即可同时完成：大于符号和小于符号的2种比较。\n",
    "\n",
    "- 方法名：`__lt__`\n",
    "- 传入参数：`other`，另一个类对象\n",
    "- 返回值：`True` or `False`\n",
    "- 内容：自行定义"
   ]
  },
  {
   "cell_type": "code",
   "execution_count": 20,
   "metadata": {},
   "outputs": [
    {
     "name": "stdout",
     "output_type": "stream",
     "text": [
      "False\n",
      "True\n"
     ]
    },
    {
     "ename": "TypeError",
     "evalue": "'<' not supported between instances of 'Student' and 'Student'",
     "output_type": "error",
     "traceback": [
      "\u001b[0;31m---------------------------------------------------------------------------\u001b[0m",
      "\u001b[0;31mTypeError\u001b[0m                                 Traceback (most recent call last)",
      "\u001b[0;32m/tmp/ipykernel_9180/156198486.py\u001b[0m in \u001b[0;36m<module>\u001b[0;34m\u001b[0m\n\u001b[1;32m     20\u001b[0m \u001b[0mstu1\u001b[0m \u001b[0;34m=\u001b[0m \u001b[0mStudent\u001b[0m\u001b[0;34m(\u001b[0m\u001b[0;34m\"run\"\u001b[0m\u001b[0;34m,\u001b[0m \u001b[0;36m18\u001b[0m\u001b[0;34m)\u001b[0m\u001b[0;34m\u001b[0m\u001b[0;34m\u001b[0m\u001b[0m\n\u001b[1;32m     21\u001b[0m \u001b[0mstu2\u001b[0m \u001b[0;34m=\u001b[0m \u001b[0mStudent\u001b[0m\u001b[0;34m(\u001b[0m\u001b[0;34m\"xmy\"\u001b[0m\u001b[0;34m,\u001b[0m \u001b[0;36m16\u001b[0m\u001b[0;34m)\u001b[0m\u001b[0;34m\u001b[0m\u001b[0;34m\u001b[0m\u001b[0m\n\u001b[0;32m---> 22\u001b[0;31m \u001b[0mprint\u001b[0m\u001b[0;34m(\u001b[0m\u001b[0mstu1\u001b[0m \u001b[0;34m<\u001b[0m \u001b[0mstu2\u001b[0m\u001b[0;34m)\u001b[0m \u001b[0;31m# 无法比较会报错\u001b[0m\u001b[0;34m\u001b[0m\u001b[0;34m\u001b[0m\u001b[0m\n\u001b[0m",
      "\u001b[0;31mTypeError\u001b[0m: '<' not supported between instances of 'Student' and 'Student'"
     ]
    }
   ],
   "source": [
    "# __lt__ 方法\n",
    "class Student:\n",
    "    def __init__(self, name, age):\n",
    "        self.name = name\n",
    "        self.age = age\n",
    "\n",
    "    def __lt__(self, other):\n",
    "        return self.age < other.age\n",
    "    \n",
    "stu1 = Student(\"run\", 18)\n",
    "stu2 = Student(\"xmy\", 16)\n",
    "print(stu1 < stu2) # False\n",
    "print(stu1 > stu2) # True\n",
    "\n",
    "class Student:\n",
    "    def __init__(self, name, age):\n",
    "        self.name = name\n",
    "        self.age = age\n",
    "\n",
    "stu1 = Student(\"run\", 18)\n",
    "stu2 = Student(\"xmy\", 16)\n",
    "print(stu1 < stu2) # 无法比较会报错"
   ]
  },
  {
   "cell_type": "markdown",
   "metadata": {},
   "source": [
    "### 3.3 __le__：<=、>= 符号比较\n",
    "\n",
    "功能：可用于 <=、>= 两种比较运算符上。\n",
    "\n",
    "- 方法名：`__le__`\n",
    "- 传入参数：other，另一个类对象\n",
    "- 返回值：`True` or `False`\n",
    "- 内容：自行定义"
   ]
  },
  {
   "cell_type": "code",
   "execution_count": 21,
   "metadata": {},
   "outputs": [
    {
     "name": "stdout",
     "output_type": "stream",
     "text": [
      "False\n",
      "True\n"
     ]
    }
   ],
   "source": [
    "# __le__ 方法\n",
    "class Student:\n",
    "    def __init__(self, name, age):\n",
    "        self.name = name\n",
    "        self.age = age\n",
    "\n",
    "    def __le__(self, other):\n",
    "        return self.age <= other.age\n",
    "    \n",
    "stu1 = Student(\"run\", 18)\n",
    "stu2 = Student(\"xmy\", 16)\n",
    "print(stu1 <= stu2) # False\n",
    "print(stu1 >= stu2) # True"
   ]
  },
  {
   "cell_type": "markdown",
   "metadata": {},
   "source": [
    "### 3.4 __eq__：== 符号比较\n",
    "\n",
    "功能：可用于 == 比较运算符上。\n",
    "\n",
    "- 方法名：`__eq__`\n",
    "- 传入参数：other，另一个类对象\n",
    "- 返回值：`True` or `False`\n",
    "- 内容：自行定义"
   ]
  },
  {
   "cell_type": "code",
   "execution_count": 23,
   "metadata": {},
   "outputs": [
    {
     "name": "stdout",
     "output_type": "stream",
     "text": [
      "True\n"
     ]
    }
   ],
   "source": [
    "# __eq__ 方法\n",
    "class Student:\n",
    "    def __init__(self, name, age):\n",
    "        self.name = name\n",
    "        self.age = age\n",
    "\n",
    "    def __eq__(self, other):\n",
    "        return self.age == other.age\n",
    "    \n",
    "stu1 = Student(\"run\", 18)\n",
    "stu2 = Student(\"xmy\", 18)\n",
    "print(stu1 == stu2) # False"
   ]
  },
  {
   "cell_type": "markdown",
   "metadata": {},
   "source": [
    "总结：\n",
    "\n",
    "`__init__`：构造方法，可用于创建类对象的时候设置初始化行为；\n",
    "\n",
    "`__str__`：用于实现类对象转字符串的行为；\n",
    "\n",
    "`__lt__`：用于两个类对象进行小于或大于比较；\n",
    "\n",
    "`__le__`：用于两个类对象进行小于等于或大于等于比较；\n",
    "\n",
    "`__eq__`：用于两个类对象进行相等比较。"
   ]
  }
 ],
 "metadata": {
  "kernelspec": {
   "display_name": "machine_learning",
   "language": "python",
   "name": "python3"
  },
  "language_info": {
   "codemirror_mode": {
    "name": "ipython",
    "version": 3
   },
   "file_extension": ".py",
   "mimetype": "text/x-python",
   "name": "python",
   "nbconvert_exporter": "python",
   "pygments_lexer": "ipython3",
   "version": "3.8.12"
  },
  "orig_nbformat": 4
 },
 "nbformat": 4,
 "nbformat_minor": 2
}
