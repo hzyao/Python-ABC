{
 "cells": [
  {
   "attachments": {},
   "cell_type": "markdown",
   "metadata": {},
   "source": [
    "# 异常、模块与包"
   ]
  },
  {
   "attachments": {},
   "cell_type": "markdown",
   "metadata": {},
   "source": [
    "## 1 异常"
   ]
  },
  {
   "attachments": {},
   "cell_type": "markdown",
   "metadata": {},
   "source": [
    "当检测到一个错误时，Python 解释器就无法运行了，且会出现一些错误提示，这就是所谓的“**异常**”，也就是我们常说的“**bug**”。\n",
    "\n",
    "异常：程序运行过程中出现了错误。\n",
    "\n",
    "bug：也就是异常，由于历史上小虫子导致计算失灵的案例，此后延续应用至今。\n",
    "\n",
    "bug 例子自己写！相信大家见得一定不少哈哈哈哈哈哈哈哈哈哈哈哈哈哈哈哈哈哈哈哈哈哈哈哈哈哈哈哈哈哈哈哈哈哈哈！！！"
   ]
  },
  {
   "cell_type": "markdown",
   "metadata": {},
   "source": [
    "### 1.1 异常的捕获方法"
   ]
  },
  {
   "attachments": {},
   "cell_type": "markdown",
   "metadata": {},
   "source": [
    "世界上没有完美的程序，任何程序在运行的过程中都有可能出现**异常**，也就是出现 **bug** 导致程序无法完美运行下去。\n",
    "\n",
    "咱们要做的，不是力求程序完美运行，而是在力所能及的范围内对可能出现的 bug，进行提前准备与处理。\n",
    "\n",
    "这种行为我们称为**异常处理（捕获异常）**。"
   ]
  },
  {
   "attachments": {},
   "cell_type": "markdown",
   "metadata": {},
   "source": [
    "当我们的程序遇到了 bug，那么接下来有两种情况：\n",
    "1. 整个程序因为一个 bug 停止运行；\n",
    "2. 对 bug 进行提醒，整个程序继续运行。"
   ]
  },
  {
   "attachments": {},
   "cell_type": "markdown",
   "metadata": {},
   "source": [
    "显然在之前的学习中，我们所有的程序遇到 bug 就会出现 1 的这种情况，也就是整个程序直接奔溃；但是在真实工作中，我们肯定不能因为一个小的 bug 就让整个程序全部奔溃，也就是我们希望的是达到 2 的这种情况。那么这里我们就需要使用到**捕获异常**。\n",
    "\n",
    "捕获异常的作用在于**提前假设某处会出现异常，做好提前准备，当真的出现异常的时候，可以提供后续解决方案**。"
   ]
  },
  {
   "attachments": {},
   "cell_type": "markdown",
   "metadata": {},
   "source": [
    "概述\n",
    "```python\n",
    "try:\n",
    "\t可能发生异常的语句\n",
    "except:\n",
    "\t出现异常的准备手段\n",
    "else:\n",
    "\t未出现异常时要做的事情\n",
    "finally:\n",
    "\t不管出不出现异常都会做的事情\n",
    "```"
   ]
  },
  {
   "attachments": {},
   "cell_type": "markdown",
   "metadata": {},
   "source": [
    "详解：\n",
    "1. 捕获常规异常 \n",
    "\n",
    "    语法：\n",
    "    ```python\n",
    "    try:\n",
    "\t可能发生错误的代码\n",
    "    except:\n",
    "\t出现异常执行的代码\n",
    "    ```"
   ]
  },
  {
   "cell_type": "code",
   "execution_count": 1,
   "metadata": {},
   "outputs": [
    {
     "name": "stdout",
     "output_type": "stream",
     "text": [
      "bug\n"
     ]
    }
   ],
   "source": [
    "# 捕获常规异常\n",
    "try:\n",
    "    f = open(\"./data/fake.txt\", \"r\", encoding=\"UTF-8\")\n",
    "except:\n",
    "    print(\"bug\")\n",
    "    f = open(\"./data/fake.txt\", \"w\", encoding=\"UTF-8\")"
   ]
  },
  {
   "attachments": {},
   "cell_type": "markdown",
   "metadata": {},
   "source": [
    "2. 捕获指定异常\n",
    "    \n",
    "    语法：\n",
    "    ```python\n",
    "    try:\n",
    "    \t可能发生错误的代码\n",
    "    except TypeError as 别名:\n",
    "    \t出现异常执行的代码\n",
    "    ```\n",
    "    \n",
    "    注：\n",
    "    1. 如果尝试执行的代码异常和要捕获的异常类型不一致，则无法捕获异常；\n",
    "    2. 一般`try`下方只放一行尝试执行的代码;\n",
    "    3. 别名中记录着异常的具体信息。"
   ]
  },
  {
   "cell_type": "code",
   "execution_count": 13,
   "metadata": {},
   "outputs": [
    {
     "name": "stdout",
     "output_type": "stream",
     "text": [
      "bug\n",
      "name 'xmy' is not defined\n"
     ]
    }
   ],
   "source": [
    "# 捕获指定异常\n",
    "try:\n",
    "    print(xmy)\n",
    "except NameError as e:\n",
    "    print(\"bug\")\n",
    "    print(e)"
   ]
  },
  {
   "cell_type": "code",
   "execution_count": 15,
   "metadata": {},
   "outputs": [
    {
     "ename": "ZeroDivisionError",
     "evalue": "division by zero",
     "output_type": "error",
     "traceback": [
      "\u001b[0;31m---------------------------------------------------------------------------\u001b[0m",
      "\u001b[0;31mZeroDivisionError\u001b[0m                         Traceback (most recent call last)",
      "\u001b[0;32m/tmp/ipykernel_9715/2479312728.py\u001b[0m in \u001b[0;36m<module>\u001b[0;34m\u001b[0m\n\u001b[1;32m      1\u001b[0m \u001b[0;31m# 无法捕获其他类型异常，直接报错\u001b[0m\u001b[0;34m\u001b[0m\u001b[0;34m\u001b[0m\u001b[0;34m\u001b[0m\u001b[0m\n\u001b[1;32m      2\u001b[0m \u001b[0;32mtry\u001b[0m\u001b[0;34m:\u001b[0m\u001b[0;34m\u001b[0m\u001b[0;34m\u001b[0m\u001b[0m\n\u001b[0;32m----> 3\u001b[0;31m     \u001b[0;36m1\u001b[0m \u001b[0;34m/\u001b[0m \u001b[0;36m0\u001b[0m\u001b[0;34m\u001b[0m\u001b[0;34m\u001b[0m\u001b[0m\n\u001b[0m\u001b[1;32m      4\u001b[0m \u001b[0;32mexcept\u001b[0m \u001b[0mNameError\u001b[0m \u001b[0;32mas\u001b[0m \u001b[0me\u001b[0m\u001b[0;34m:\u001b[0m\u001b[0;34m\u001b[0m\u001b[0;34m\u001b[0m\u001b[0m\n\u001b[1;32m      5\u001b[0m     \u001b[0mprint\u001b[0m\u001b[0;34m(\u001b[0m\u001b[0;34m\"bug\"\u001b[0m\u001b[0;34m)\u001b[0m\u001b[0;34m\u001b[0m\u001b[0;34m\u001b[0m\u001b[0m\n",
      "\u001b[0;31mZeroDivisionError\u001b[0m: division by zero"
     ]
    }
   ],
   "source": [
    "# 无法捕获其他类型异常，直接报错\n",
    "try:\n",
    "    1 / 0\n",
    "except NameError as e:\n",
    "    print(\"bug\")\n",
    "    print(e)"
   ]
  },
  {
   "attachments": {},
   "cell_type": "markdown",
   "metadata": {},
   "source": [
    "3. 捕获多个异常\n",
    "    \n",
    "    当捕获多个异常时，可把要捕获的异常类型名放到`except`后，使用元组的方式进行书写。"
   ]
  },
  {
   "cell_type": "code",
   "execution_count": 16,
   "metadata": {},
   "outputs": [
    {
     "name": "stdout",
     "output_type": "stream",
     "text": [
      "bug\n",
      "division by zero\n"
     ]
    }
   ],
   "source": [
    "# 捕获多个异常\n",
    "try:\n",
    "    1 / 0\n",
    "except (NameError, ZeroDivisionError) as e:\n",
    "    print(\"bug\")\n",
    "    print(e)"
   ]
  },
  {
   "attachments": {},
   "cell_type": "markdown",
   "metadata": {},
   "source": [
    "4. 捕获所有异常\n",
    "    \n",
    "    前面 *捕获常规异常* 部分的语法未进行限定，可以捕获所有异常，还有如下的顶级方法："
   ]
  },
  {
   "cell_type": "code",
   "execution_count": 17,
   "metadata": {},
   "outputs": [
    {
     "name": "stdout",
     "output_type": "stream",
     "text": [
      "bug\n",
      "division by zero\n"
     ]
    }
   ],
   "source": [
    "# 捕获所有异常\n",
    "try:\n",
    "    1 / 0 # print(name)\n",
    "except Exception as e:\n",
    "    print(\"bug\")\n",
    "    print(e)"
   ]
  },
  {
   "attachments": {},
   "cell_type": "markdown",
   "metadata": {},
   "source": [
    "5. 异常 else\n",
    "    \n",
    "    `else`表示如果没有异常要执行的代码。"
   ]
  },
  {
   "cell_type": "code",
   "execution_count": 18,
   "metadata": {},
   "outputs": [
    {
     "name": "stdout",
     "output_type": "stream",
     "text": [
      "name\n",
      "happy\n"
     ]
    }
   ],
   "source": [
    "# 异常else\n",
    "try:\n",
    "    print(\"name\")\n",
    "except Exception as e:\n",
    "    print(\"sad\")\n",
    "else:\n",
    "    print(\"happy\")"
   ]
  },
  {
   "attachments": {},
   "cell_type": "markdown",
   "metadata": {},
   "source": [
    "6. 异常 finally\n",
    "    \n",
    "    `finally`表示无论是否异常都要执行的代码，例如关闭文件。"
   ]
  },
  {
   "cell_type": "code",
   "execution_count": null,
   "metadata": {},
   "outputs": [],
   "source": [
    "# 异常finally\n",
    "try:\n",
    "    print(\"name\")\n",
    "except Exception as e:\n",
    "    print(\"sad\")\n",
    "else:\n",
    "    print(\"happy\")\n",
    "finally:\n",
    "    f.close()"
   ]
  },
  {
   "attachments": {},
   "cell_type": "markdown",
   "metadata": {},
   "source": [
    "### 1.2 异常的传递"
   ]
  },
  {
   "attachments": {},
   "cell_type": "markdown",
   "metadata": {},
   "source": [
    "异常具有传递性。注：当所有函数都没有捕获异常的时候，程序就会报错。"
   ]
  },
  {
   "cell_type": "code",
   "execution_count": 2,
   "metadata": {},
   "outputs": [
    {
     "name": "stdout",
     "output_type": "stream",
     "text": [
      "bug\n",
      "name 'func2' is not defined\n"
     ]
    }
   ],
   "source": [
    "# 异常的传递性演示\n",
    "## 定义一个有异常的函数\n",
    "def func():\n",
    "    print(\"func1 start\")\n",
    "    num = 1 / 0 # 异常\n",
    "    print(\"func1 over\")\n",
    "\n",
    "## 定义一个无异常的函数，调用上面的函数\n",
    "def func():\n",
    "    print(\"func2 start\")\n",
    "    func1()\n",
    "    print(\"func2 over\")\n",
    "\n",
    "## 定义一个主函数，调用上面的函数\n",
    "def main():\n",
    "    try:\n",
    "        func2()\n",
    "    except Exception as e:\n",
    "        print(\"bug\")\n",
    "        print(e)\n",
    "\n",
    "main()\n"
   ]
  },
  {
   "attachments": {},
   "cell_type": "markdown",
   "metadata": {},
   "source": [
    "## 2 模块"
   ]
  },
  {
   "attachments": {},
   "cell_type": "markdown",
   "metadata": {},
   "source": [
    "### 2.1 什么是模块"
   ]
  },
  {
   "attachments": {},
   "cell_type": "markdown",
   "metadata": {},
   "source": [
    "Python 模块（module）：是一个 **Python 文件**，以 **.py 结尾**，内部包含函数、类、变量和可执行的代码等。通俗来讲，模块就是一个 Python 文件，里面有类、函数、变量等，我们可以拿过来用（导入模块去使用）。\n",
    "\n",
    "作用：Python 中有很多各种不同的模块，每一个模块都可以帮助我们快速的实现一些**功能**，比如实现和时间相关的功能就可以使用 time 模块。我们可以认为**一个模块就是一个工具包**，每一个工具包中都有各种不同的工具供我们使用进而实现各种不同的功能。"
   ]
  },
  {
   "attachments": {},
   "cell_type": "markdown",
   "metadata": {},
   "source": [
    "### 2.2 模块的导入方式"
   ]
  },
  {
   "attachments": {},
   "cell_type": "markdown",
   "metadata": {},
   "source": [
    "模块在使用前需要先导入，语法如下：\n",
    "\n",
    "`[form 模块名] import [模块 | 类 | 变量 | 函数| *] [as 别名]`\n",
    "\n",
    "常见组合形式如下：\n",
    "\n",
    "- `import 模块名`\n",
    "- `from 模块名 import 类、变量、方法等`\n",
    "- `from 模块名 import *`\n",
    "- `import 模块名 as 别名`\n",
    "- `from 模块名 import 功能名 as 别名`"
   ]
  },
  {
   "attachments": {},
   "cell_type": "markdown",
   "metadata": {},
   "source": [
    "1. import 模块名"
   ]
  },
  {
   "cell_type": "code",
   "execution_count": 2,
   "metadata": {},
   "outputs": [
    {
     "name": "stdout",
     "output_type": "stream",
     "text": [
      "hello\n",
      "hi\n"
     ]
    }
   ],
   "source": [
    "# 模块导入\n",
    "import time\n",
    "print(\"hello\")\n",
    "time.sleep(3)\n",
    "print(\"hi\")"
   ]
  },
  {
   "attachments": {},
   "cell_type": "markdown",
   "metadata": {},
   "source": [
    "2. from 模块名 import 功能名"
   ]
  },
  {
   "cell_type": "code",
   "execution_count": 3,
   "metadata": {},
   "outputs": [
    {
     "name": "stdout",
     "output_type": "stream",
     "text": [
      "hello\n",
      "hi\n"
     ]
    }
   ],
   "source": [
    "# 导入模块中的功能\n",
    "from time import sleep\n",
    "print(\"hello\")\n",
    "sleep(3)\n",
    "print(\"hi\")"
   ]
  },
  {
   "attachments": {},
   "cell_type": "markdown",
   "metadata": {},
   "source": [
    "3. from 模块名 import *"
   ]
  },
  {
   "cell_type": "code",
   "execution_count": 4,
   "metadata": {},
   "outputs": [
    {
     "name": "stdout",
     "output_type": "stream",
     "text": [
      "hello\n",
      "hi\n"
     ]
    }
   ],
   "source": [
    "# 使用 * 导入模块中的全部功能\n",
    "from time import *\n",
    "print(\"hello\")\n",
    "sleep(3) # 与上述直接导入模块作用相同，但是使用模块中函数时可直接使用，不需要用 . \n",
    "print(\"hi\")"
   ]
  },
  {
   "attachments": {},
   "cell_type": "markdown",
   "metadata": {},
   "source": [
    "4. as 定义别名"
   ]
  },
  {
   "cell_type": "code",
   "execution_count": 5,
   "metadata": {},
   "outputs": [],
   "source": [
    "# 模块定义别名\n",
    "import time as t\n",
    "t.sleep(2)\n",
    "\n",
    "# 功能定义别名\n",
    "from time import sleep as sl\n",
    "sl(2)"
   ]
  },
  {
   "attachments": {},
   "cell_type": "markdown",
   "metadata": {},
   "source": [
    "注：\n",
    "\n",
    "- from可以省略，直接import即可\n",
    "- as别名可以省略\n",
    "- 通过.来确定层级关系\n",
    "- 模块的导入一般写在代码文件的开头位置"
   ]
  },
  {
   "attachments": {},
   "cell_type": "markdown",
   "metadata": {},
   "source": [
    "### 2.3 自定义模块"
   ]
  },
  {
   "attachments": {},
   "cell_type": "markdown",
   "metadata": {},
   "source": [
    "Python 中已经帮我们实现了很多的模块，不过有时候你可能会需要一些个性化的模块，我们可以通过自定义模块去实现，也就是说你可以自己制作一个模块。导入方法同 Python 内置模块相同。"
   ]
  },
  {
   "cell_type": "code",
   "execution_count": 1,
   "metadata": {},
   "outputs": [
    {
     "name": "stdout",
     "output_type": "stream",
     "text": [
      "9\n"
     ]
    }
   ],
   "source": [
    "# 导入自定义模块（先自己去构建一个！）\n",
    "## 导入我的模块\n",
    "import mymodule\n",
    "mymodule.test(3, 6)"
   ]
  },
  {
   "attachments": {},
   "cell_type": "markdown",
   "metadata": {},
   "source": [
    "```python\n",
    "# 我的模块\n",
    "def test(a, b):\n",
    "    print(a + b)\n",
    "```"
   ]
  },
  {
   "attachments": {},
   "cell_type": "markdown",
   "metadata": {},
   "source": [
    "注：当导入多个模块且不同模块内有同名功能时，则后导入的模块功能会覆盖先导入的。"
   ]
  },
  {
   "attachments": {},
   "cell_type": "markdown",
   "metadata": {},
   "source": [
    "在实际开发中，当我们编写完一个模块后，为了让模块能够在项目中达到想要的效果，我们可能会自行在 .py 文件中添加测试代码（`test()`）。这种情况下，无论是当前文件还是其他已经导入了该模块的文件，在运行的时候都会自动执行`test`函数的调用。我们可以在 .py 文件中使用`__main__`来解决这个问题。\n",
    "\n",
    "`if __name__ == \"__main__\"`表示只有当程序是直接执行的才会进入`if`内部，如果是被导入，则`if`无法进入。"
   ]
  },
  {
   "attachments": {},
   "cell_type": "markdown",
   "metadata": {},
   "source": [
    "```python\n",
    "# 我的module内容\n",
    "def test(a, b):\n",
    "    print(a + b)\n",
    "\n",
    "# 只在当前文件中调用该函数，其他文件导入此模块则不会调用该函数\n",
    "if __name__ == \"__main__\":\n",
    "    test(1, 1)\n",
    "```"
   ]
  },
  {
   "attachments": {},
   "cell_type": "markdown",
   "metadata": {},
   "source": [
    "如果一个模块文件中有`__all__`变量，当使用`from xxx import *`导入时，只能导入这个列表中的元素。"
   ]
  },
  {
   "attachments": {},
   "cell_type": "markdown",
   "metadata": {},
   "source": [
    "```python\n",
    "# 自定义模块内容\n",
    "__all__ = [\"test\"] # 这样在其他文件中以 * 导入时，就只能使用test函数\n",
    "\n",
    "def test(a, b):\n",
    "    print(a + b)\n",
    "\n",
    "def test_b(a, b):\n",
    "    print(a - b)\n",
    "\n",
    "if __name__ == \"__main__\":\n",
    "    test(1, 1)\n",
    "```"
   ]
  },
  {
   "attachments": {},
   "cell_type": "markdown",
   "metadata": {},
   "source": [
    "## 3 包"
   ]
  },
  {
   "attachments": {},
   "cell_type": "markdown",
   "metadata": {},
   "source": [
    "### 3.1 什么是 Python 包\n",
    "\n",
    "**从物理上看**，包就是一个**文件夹**，在该文件夹下包含了一个`__init__.py`文件，该文件夹可用于存放多个**模块文件**（代码文件）；**从逻辑上看**，包的本质依然是**模块**。\n",
    "\n",
    "包的作用：当我们的模块文件越来越多时，包可以帮助我们**管理这些模块**。包的作用就是包含多个模块，将其归为一类，方便使用，但包的本质依然是**模块**。"
   ]
  },
  {
   "attachments": {},
   "cell_type": "markdown",
   "metadata": {},
   "source": [
    "### 3.2 自定义 Python 包的使用\n",
    "\n",
    "首先，自定义一个包，还是蛮简单的，创建一个文件夹，在文件夹下创建`__init__.py`文件（有这个文件就表明这个文件夹是Python包，而不是普通的文件夹，pycharm支持自动创建），然后创建你想要的模块就好啦！如`mypkg`文件夹。"
   ]
  },
  {
   "attachments": {},
   "cell_type": "markdown",
   "metadata": {},
   "source": [
    "导入自定义包的方法同导入包相同，如下所示：\n",
    "```python\n",
    "import 包名.模块名\n",
    "包名.模块名.目标\n",
    "```"
   ]
  },
  {
   "attachments": {},
   "cell_type": "markdown",
   "metadata": {},
   "source": [
    "```python\n",
    "# mypkg_module_1.py 中的内容，mypkg_module_2.py 中同，仅把1改为2\n",
    "\"\"\"\n",
    "module 1\n",
    "\n",
    "\"\"\"\n",
    "\n",
    "def info_print1():\n",
    "    print(\"modele 1\")\n",
    "\n",
    "```"
   ]
  },
  {
   "cell_type": "code",
   "execution_count": 4,
   "metadata": {},
   "outputs": [
    {
     "name": "stdout",
     "output_type": "stream",
     "text": [
      "modele 1\n",
      "modele 2\n",
      "modele 1\n",
      "modele 2\n",
      "modele 1\n",
      "modele 2\n"
     ]
    }
   ],
   "source": [
    "# 导入自定义包，与导入包方式相同\n",
    "## 第一种写法\n",
    "import mypkg.mypkg_module_1\n",
    "import mypkg.mypkg_module_2\n",
    "\n",
    "mypkg.mypkg_module_1.info_print1()\n",
    "mypkg.mypkg_module_2.info_print2()\n",
    "\n",
    "## 第二种写法\n",
    "from mypkg import mypkg_module_1\n",
    "from mypkg import mypkg_module_2\n",
    "\n",
    "mypkg_module_1.info_print1()\n",
    "mypkg_module_2.info_print2()\n",
    "\n",
    "## 第三种写法\n",
    "from mypkg.mypkg_module_1 import info_print1\n",
    "from mypkg.mypkg_module_2 import info_print2\n",
    "info_print1()\n",
    "info_print2()"
   ]
  },
  {
   "attachments": {},
   "cell_type": "markdown",
   "metadata": {},
   "source": [
    "导入包中，也有和之前在模块部分讲到的`__all__`变量，和在模块中一样拥有控制`import *`导入内容的功能。要注意的是，必须在`__init__.py`文件中添加`__all__ = []`，控制允许导入的模块列表。"
   ]
  },
  {
   "attachments": {},
   "cell_type": "markdown",
   "metadata": {},
   "source": [
    "```python\n",
    "from 包名 import * \n",
    "模块名.目标\n",
    "```"
   ]
  },
  {
   "attachments": {},
   "cell_type": "markdown",
   "metadata": {},
   "source": [
    "```python\n",
    "# __init__.py 中的内容，[]中是包中可以用的模块的名字\n",
    "__all__ = ['mypkg_module_1']\n",
    "````"
   ]
  },
  {
   "cell_type": "code",
   "execution_count": 2,
   "metadata": {},
   "outputs": [
    {
     "name": "stdout",
     "output_type": "stream",
     "text": [
      "modele 1\n"
     ]
    },
    {
     "ename": "NameError",
     "evalue": "name 'mypkg_module_2' is not defined",
     "output_type": "error",
     "traceback": [
      "\u001b[0;31m---------------------------------------------------------------------------\u001b[0m",
      "\u001b[0;31mNameError\u001b[0m                                 Traceback (most recent call last)",
      "\u001b[0;32m/tmp/ipykernel_26016/1762074891.py\u001b[0m in \u001b[0;36m<module>\u001b[0;34m\u001b[0m\n\u001b[1;32m      2\u001b[0m \u001b[0;32mfrom\u001b[0m \u001b[0mmypkg\u001b[0m \u001b[0;32mimport\u001b[0m \u001b[0;34m*\u001b[0m\u001b[0;34m\u001b[0m\u001b[0;34m\u001b[0m\u001b[0m\n\u001b[1;32m      3\u001b[0m \u001b[0mmypkg_module_1\u001b[0m\u001b[0;34m.\u001b[0m\u001b[0minfo_print1\u001b[0m\u001b[0;34m(\u001b[0m\u001b[0;34m)\u001b[0m\u001b[0;34m\u001b[0m\u001b[0;34m\u001b[0m\u001b[0m\n\u001b[0;32m----> 4\u001b[0;31m \u001b[0mmypkg_module_2\u001b[0m\u001b[0;34m.\u001b[0m\u001b[0minfo_print2\u001b[0m\u001b[0;34m(\u001b[0m\u001b[0;34m)\u001b[0m\u001b[0;34m\u001b[0m\u001b[0;34m\u001b[0m\u001b[0m\n\u001b[0m",
      "\u001b[0;31mNameError\u001b[0m: name 'mypkg_module_2' is not defined"
     ]
    }
   ],
   "source": [
    "# 导入包2.0\n",
    "from mypkg import *\n",
    "mypkg_module_1.info_print1()\n",
    "mypkg_module_2.info_print2() # 2未被导入，运行会报错"
   ]
  },
  {
   "attachments": {},
   "cell_type": "markdown",
   "metadata": {},
   "source": [
    "注：`__all__`针对的是`from xxx import *`，对`import xxx`无效。"
   ]
  },
  {
   "cell_type": "code",
   "execution_count": 1,
   "metadata": {},
   "outputs": [
    {
     "name": "stdout",
     "output_type": "stream",
     "text": [
      "要蛮小\n",
      "yru\n",
      "File content is:\n",
      "一只小蛮要\n",
      "我是谁谁是我\n",
      "yhz\n",
      "lr\n",
      "run\n",
      "None\n"
     ]
    }
   ],
   "source": [
    "# 练习：自定义工具包，包的详情见testpkg\n",
    "from testpkg import str_util\n",
    "import testpkg.file_util\n",
    "\n",
    "print(str_util.str_reverse(\"小蛮要\"))\n",
    "print(str_util.substr(\"xmyrun\", 2, 5))\n",
    "print(testpkg.file_util.print_file_info(\"/home/yhz/NoteBook/PythonLearning/data/test.txt\"))"
   ]
  }
 ],
 "metadata": {
  "kernelspec": {
   "display_name": "machine_learning",
   "language": "python",
   "name": "python3"
  },
  "language_info": {
   "codemirror_mode": {
    "name": "ipython",
    "version": 3
   },
   "file_extension": ".py",
   "mimetype": "text/x-python",
   "name": "python",
   "nbconvert_exporter": "python",
   "pygments_lexer": "ipython3",
   "version": "3.8.12"
  },
  "orig_nbformat": 4
 },
 "nbformat": 4,
 "nbformat_minor": 2
}
