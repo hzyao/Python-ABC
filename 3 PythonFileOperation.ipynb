{
 "cells": [
  {
   "attachments": {},
   "cell_type": "markdown",
   "metadata": {},
   "source": [
    "# 文件操作"
   ]
  },
  {
   "attachments": {},
   "cell_type": "markdown",
   "metadata": {},
   "source": [
    "## 1 什么是编码"
   ]
  },
  {
   "attachments": {},
   "cell_type": "markdown",
   "metadata": {},
   "source": [
    "编码：是一种规则集合，记录了内容和二进制间进行相互转换的逻辑。通俗来讲就是，一种翻译规则，记录了如何将内容翻译成二进制，以及如何将二进制翻译回可识别内容。\n",
    "\n",
    "计算机中有许多可用编码：\n",
    "\n",
    "- **UTF-8**（目前全球通用的编码格式，除非有特殊需求，否则一律以 UTF-8 格式进行文件编码即可）\n",
    "- GBK\n",
    "- Big5\n",
    "- ……\n",
    "\n",
    "不同的编码，将内容翻译成二进制的结果也是不同的。\n",
    "\n",
    "> 为什么要使用编码嘞？ —— 因为啊，在计算机的世界里，只有 0 和 1，所以需要将内容翻译成 0 和 1 才能保存在计算机中；同时也需要编码将计算机保存的 0 和 1，反向翻译回我们人类可以识别的内容。\n",
    "\n"
   ]
  },
  {
   "attachments": {},
   "cell_type": "markdown",
   "metadata": {},
   "source": [
    "## 2 文件的读取\n",
    "内存中存放的数据在计算机关机后就会消失，我们想要长久地保存数据，就要使用硬盘、光盘、U盘等设备。为了便于数据的管理和检索，引入了“**文件**”的概念。\n",
    "一篇文章、一段视频、一个可执行程序，都可以被保存为一个文件，并赋予一个文件名。操作系统以文件为单位管理磁盘中的数据。一般来说，文件可分为文本文件、视频文件、音频文件、图像文件、可执行文件等多种类别。\n",
    "\n",
    "在日常生活中，文件操作主要包括**打开、关闭、读、写**等操作。"
   ]
  },
  {
   "attachments": {},
   "cell_type": "markdown",
   "metadata": {},
   "source": [
    "### 2.1 打开文件"
   ]
  },
  {
   "attachments": {},
   "cell_type": "markdown",
   "metadata": {},
   "source": [
    "`open()`：可以打开一个已经存在的文件，或者创建一个新文件。\n",
    "\n",
    "语法：文件对象 = `open(name, mode, encoding)`\n",
    "\n",
    "`name`：是要打开的目标文件名的字符串（可以包含文件所在的具体路径）。\n",
    "\n",
    "`mode`：设置打开文件的模式（访问模式），包括只读、写入、追加等。\n",
    "\n",
    "`encoding`：编码格式（推荐使用UTF-8）"
   ]
  },
  {
   "attachments": {},
   "cell_type": "markdown",
   "metadata": {},
   "source": [
    "`mode`常用的三种基础访问模式：\n",
    "\n",
    "`r`：以只读方式打开文件。文件的指针将会放在文件的开头。这是默认模式。\n",
    "\n",
    "`w`：打开一个文件只用于写入。如果该文件已存在则打开文件，并从开头开始编辑，**原有内容会被册除**。如果该文件不存在，创建新文件。\n",
    "\n",
    "`a`：打开一个文件用于追加。如果该文件已存在，新的内容将会被写入到已有内容之后。如果该文件不存在，创建新文件进行写入。"
   ]
  },
  {
   "attachments": {},
   "cell_type": "markdown",
   "metadata": {},
   "source": [
    "\n",
    "\n",
    "注：此时的`f`是`open`函数的文件对象，对象是 Python 中一种特殊的数据类型，拥有属性和方法，可以使用`对象.属性`或`对象.方法`对其进行访问，我们在后续“面向对象”部分会进行详细学习。"
   ]
  },
  {
   "cell_type": "code",
   "execution_count": 8,
   "metadata": {},
   "outputs": [
    {
     "name": "stdout",
     "output_type": "stream",
     "text": [
      "<class '_io.TextIOWrapper'>\n"
     ]
    }
   ],
   "source": [
    "# 打开文件\n",
    "f = open(\"./data/test.txt\", \"r\", encoding=\"UTF-8\") # encoding的顺序不是第三位，所以不能用位置参数，用关键字参数直接指定\n",
    "print(type(f))"
   ]
  },
  {
   "attachments": {},
   "cell_type": "markdown",
   "metadata": {},
   "source": [
    "### 2.2 读操作相关方法\n",
    "- `文件对象.read(num)\n",
    "num`表示要从文件中读取的数据长度（单位是字节），如果没有传入`num`，则表示读取文件中的所有数据。"
   ]
  },
  {
   "cell_type": "code",
   "execution_count": 9,
   "metadata": {},
   "outputs": [
    {
     "name": "stdout",
     "output_type": "stream",
     "text": [
      "一只小蛮要\n",
      "我是谁谁\n",
      "是我\n"
     ]
    }
   ],
   "source": [
    "# 读取文件 —— 一定数据长度\n",
    "print(f.read(10))\n",
    "print(f.read(2)) # 如果连续调用两次read，下一次会从上次read结尾处开始读取"
   ]
  },
  {
   "attachments": {},
   "cell_type": "markdown",
   "metadata": {},
   "source": [
    "- `文件对象.readlines()`\n",
    "可按行把整个文件中的内容进行一次性读取，且返回的是一个**列表**，其中每行数据为一个元素。"
   ]
  },
  {
   "cell_type": "code",
   "execution_count": 10,
   "metadata": {},
   "outputs": [
    {
     "name": "stdout",
     "output_type": "stream",
     "text": [
      "['\\n', 'yhz\\n', 'lr\\n', 'run']\n",
      "<class 'list'>\n"
     ]
    }
   ],
   "source": [
    "# 读取文件 —— 将全部行封装到列表中\n",
    "print(f.readlines())\n",
    "print(type(f.readlines()))"
   ]
  },
  {
   "attachments": {},
   "cell_type": "markdown",
   "metadata": {},
   "source": [
    "- `文件对象.readline()`"
   ]
  },
  {
   "cell_type": "code",
   "execution_count": 11,
   "metadata": {},
   "outputs": [
    {
     "name": "stdout",
     "output_type": "stream",
     "text": [
      "一只小蛮要\n",
      "\n",
      "我是谁谁是我\n",
      "\n",
      "yhz\n",
      "\n"
     ]
    }
   ],
   "source": [
    "# 读取文件 —— 一次读取一行内容\n",
    "f = open(\"./data/test.txt\", \"r\", encoding=\"UTF-8\")\n",
    "print(f.readline())\n",
    "print(f.readline())\n",
    "print(f.readline())"
   ]
  },
  {
   "attachments": {},
   "cell_type": "markdown",
   "metadata": {},
   "source": [
    "- for 循环读取文件行"
   ]
  },
  {
   "cell_type": "code",
   "execution_count": 12,
   "metadata": {},
   "outputs": [
    {
     "name": "stdout",
     "output_type": "stream",
     "text": [
      "一只小蛮要\n",
      "\n",
      "我是谁谁是我\n",
      "\n",
      "yhz\n",
      "\n",
      "lr\n",
      "\n",
      "run\n"
     ]
    }
   ],
   "source": [
    "# for循环读取文件行\n",
    "f = open(\"./data/test.txt\", \"r\", encoding=\"UTF-8\")\n",
    "for line in f:\n",
    "    print(line)"
   ]
  },
  {
   "attachments": {},
   "cell_type": "markdown",
   "metadata": {},
   "source": [
    "### 2.3 关闭文件"
   ]
  },
  {
   "attachments": {},
   "cell_type": "markdown",
   "metadata": {},
   "source": [
    "`文件对象.close()`：关闭文件对象，也就是关闭对文件的占用。如果不调用`close`，同时程序没有停止运行，那么这个文件就会一直被 Python 程序占用。"
   ]
  },
  {
   "cell_type": "code",
   "execution_count": null,
   "metadata": {},
   "outputs": [],
   "source": [
    "# 关闭文件\n",
    "f = open(\"./data/test.txt\", \"r\", encoding=\"UTF-8\")\n",
    "f.close()"
   ]
  },
  {
   "attachments": {},
   "cell_type": "markdown",
   "metadata": {},
   "source": [
    "`with open`：这样打开文件，可在操作完成后将其自动关闭，避免遗忘。"
   ]
  },
  {
   "cell_type": "code",
   "execution_count": 13,
   "metadata": {},
   "outputs": [
    {
     "name": "stdout",
     "output_type": "stream",
     "text": [
      "一只小蛮要\n",
      "\n",
      "我是谁谁是我\n",
      "\n",
      "yhz\n",
      "\n",
      "lr\n",
      "\n",
      "run\n"
     ]
    }
   ],
   "source": [
    "# with open\n",
    "with open(\"./data/test.txt\", \"r\", encoding=\"UTF-8\") as f:\n",
    "    for line in f:\n",
    "        print(line)"
   ]
  },
  {
   "attachments": {},
   "cell_type": "markdown",
   "metadata": {},
   "source": [
    "总结：\n",
    "\n",
    "`文件对象=open(file, mode, encoding)`：打开文件获得文件对象；\n",
    "\n",
    "`文件对象.read(num)`：读取指定长度字节，不指定`num`读取文件全部；\n",
    "\n",
    "`文件对象.readline()`：读取一行；\n",
    "\n",
    "`文件对象.readlines()`：读取全部行，得到列表；\n",
    "\n",
    "`for line in 文件对象`：for 循环文件行，一次循环得到一行数据；\n",
    "\n",
    "`文件对象.close()`：关闭文件对象；\n",
    "\n",
    "`with open(file, mode, encoding)as f`：通过`with open`语法打开文件，可以自动关闭。"
   ]
  },
  {
   "cell_type": "code",
   "execution_count": 36,
   "metadata": {},
   "outputs": [
    {
     "name": "stdout",
     "output_type": "stream",
     "text": [
      "4\n"
     ]
    }
   ],
   "source": [
    "# 练习：单词计数，统计文件中“xmy”出现次数\n",
    "f = open(\"./data/word.txt\", \"r\", encoding=\"UTF-8\")\n",
    "list = f.readlines()\n",
    "\n",
    "count = 0\n",
    "for line in list:\n",
    "    for i in line.split(\" \"):\n",
    "        if i == \"xmy\":\n",
    "            count += 1\n",
    "\n",
    "print(count)"
   ]
  },
  {
   "attachments": {},
   "cell_type": "markdown",
   "metadata": {},
   "source": [
    "## 3 文件的写入"
   ]
  },
  {
   "attachments": {},
   "cell_type": "markdown",
   "metadata": {},
   "source": [
    "使用`open()`的`w`模式进行文件写入。\n",
    "\n",
    "`文件对象.write(”写入内容”)`：文件写入\n",
    "\n",
    "`文件对象.flush()`：刷新内容到硬盘中\n",
    "\n",
    "注：\n",
    "- `w`模式：文件不存在，创造新文件；文件已存在，清空旧文件。\n",
    "- 直接调用`write`，内容并未真正写入文件，而是会积攒在程序的内存中，称之为**缓冲区**。\n",
    "- 当调用`flush()`的时候，内容会真正写入文件。这样做是避免频繁操作硬盘，导致效率下降（攒一堆，一次性写磁盘）。\n",
    "- `close()`内置`flush()`功能。"
   ]
  },
  {
   "cell_type": "code",
   "execution_count": 67,
   "metadata": {},
   "outputs": [],
   "source": [
    "# 打开不存在的文件\n",
    "f = open(\"./data/write.txt\", \"w\", encoding=\"UTF-8\")\n",
    "\n",
    "# write写入\n",
    "f.write(\"runrunrun!!!\")\n",
    "\n",
    "# flush刷新\n",
    "f.flush()\n",
    "\n",
    "# close关闭\n",
    "f.close()\n",
    "\n",
    "# 打开已存在的文件\n",
    "f = open(\"./data/write.txt\", \"w\", encoding=\"UTF-8\") # 文件不存在，创造新文件；文件已存在，清空旧文件\n",
    "f.write(\"yaoyaoyao!!!\")\n",
    "f.close() # close内置flush功能"
   ]
  },
  {
   "attachments": {},
   "cell_type": "markdown",
   "metadata": {},
   "source": [
    "## 4 文件的追加"
   ]
  },
  {
   "attachments": {},
   "cell_type": "markdown",
   "metadata": {},
   "source": [
    "使用`open()`的`a`模式进行文件追加，其余同`w`。\n",
    "\n",
    "注：\n",
    "- `a`模式，文件不存在，会创建文件（同`w`）。\n",
    "- `a`模式，文件已存在，会在原有内容后面追加写入文件。"
   ]
  },
  {
   "cell_type": "code",
   "execution_count": 2,
   "metadata": {},
   "outputs": [],
   "source": [
    "# 打开已存在的文件\n",
    "f = open(\"./data/write.txt\", \"a\", encoding=\"UTF-8\")\n",
    "f.write(\"runrunrun!!!\")\n",
    "f.close()\n",
    "\n",
    "f = open(\"./data/write.txt\", \"a\", encoding=\"UTF-8\")\n",
    "f.write(\"\\nrunrunrun!!!\")\n",
    "f.close()"
   ]
  }
 ],
 "metadata": {
  "kernelspec": {
   "display_name": "machine_learning",
   "language": "python",
   "name": "python3"
  },
  "language_info": {
   "codemirror_mode": {
    "name": "ipython",
    "version": 3
   },
   "file_extension": ".py",
   "mimetype": "text/x-python",
   "name": "python",
   "nbconvert_exporter": "python",
   "pygments_lexer": "ipython3",
   "version": "3.8.12"
  },
  "orig_nbformat": 4
 },
 "nbformat": 4,
 "nbformat_minor": 2
}
