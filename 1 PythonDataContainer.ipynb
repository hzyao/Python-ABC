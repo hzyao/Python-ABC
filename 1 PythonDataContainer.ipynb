{
 "cells": [
  {
   "attachments": {},
   "cell_type": "markdown",
   "metadata": {},
   "source": [
    "# 数据容器"
   ]
  },
  {
   "attachments": {},
   "cell_type": "markdown",
   "metadata": {},
   "source": [
    "## 1 什么是数据容器\n",
    "\n",
    "数据容器：一种可以存储多个元素的数据类型，元素可以是任意类型是数据，如字符串、数字、布尔等。\n",
    "\n",
    "数据容器类型：list（列表）、tuple（元组）、str（字符串）、set（集合）、dict（字典），它们各有特点，但都满足可容纳多个元素的特性。"
   ]
  },
  {
   "attachments": {},
   "cell_type": "markdown",
   "metadata": {},
   "source": [
    "## 2 列表"
   ]
  },
  {
   "attachments": {},
   "cell_type": "markdown",
   "metadata": {},
   "source": [
    "列表内的每一个数据，称之为元素。\n",
    "\n",
    "- 以`[]`作为标识\n",
    "- 列表内每一个元素之间用`,`隔开\n",
    "- 列表可以一次存储多个数据，且可为不同的数据类型，并支持嵌套"
   ]
  },
  {
   "cell_type": "code",
   "execution_count": 2,
   "metadata": {},
   "outputs": [
    {
     "name": "stdout",
     "output_type": "stream",
     "text": [
      "['yhz', 'lr', 'xmy', 666, True]\n",
      "<class 'list'>\n"
     ]
    }
   ],
   "source": [
    "# 定义列表字面量\n",
    "[\"yhz\", \"lr\", \"xmy\", 666, True]\n",
    "\n",
    "# 定义列表变量\n",
    "my_list = [\"yhz\", \"lr\", \"xmy\", 666, True]\n",
    "print(my_list)\n",
    "print(type(my_list))\n"
   ]
  },
  {
   "cell_type": "code",
   "execution_count": 25,
   "metadata": {},
   "outputs": [
    {
     "name": "stdout",
     "output_type": "stream",
     "text": [
      "[]\n",
      "<class 'list'>\n"
     ]
    }
   ],
   "source": [
    "# 定义空列表\n",
    "o_list = []\n",
    "o_list = list()\n",
    "print(o_list)\n",
    "print(type(o_list))"
   ]
  },
  {
   "cell_type": "code",
   "execution_count": 26,
   "metadata": {},
   "outputs": [
    {
     "name": "stdout",
     "output_type": "stream",
     "text": [
      "[[1, 2, 3], [4, 5, 6]]\n",
      "<class 'list'>\n"
     ]
    }
   ],
   "source": [
    "# 定义一个嵌套的列表\n",
    "my_list = [[1,2,3], [4,5,6]]\n",
    "print(my_list)\n",
    "print(type(my_list))"
   ]
  },
  {
   "attachments": {},
   "cell_type": "markdown",
   "metadata": {},
   "source": [
    "### 2.1 列表的下标索引\n",
    "\n",
    "列表的每一个元素，都有编号，我们称之为下标索引。`列表[下标]`即可取出。嵌套列表同样支持下标索引。\n",
    "\n",
    "从前向后，从 0 开始，依次递增，0,1,2,3…；\n",
    "\n",
    "从后向前，从 -1 开始，依次递减，-1,-2,-3…。"
   ]
  },
  {
   "cell_type": "code",
   "execution_count": 30,
   "metadata": {},
   "outputs": [
    {
     "name": "stdout",
     "output_type": "stream",
     "text": [
      "yhz\n",
      "lr\n",
      "True\n"
     ]
    }
   ],
   "source": [
    "# 列表的下标索引\n",
    "my_list = [\"yhz\", \"lr\", \"xmy\", 666, True]\n",
    "print(my_list[0])\n",
    "print(my_list[1])\n",
    "print(my_list[4])"
   ]
  },
  {
   "cell_type": "code",
   "execution_count": 31,
   "metadata": {},
   "outputs": [
    {
     "name": "stdout",
     "output_type": "stream",
     "text": [
      "yhz\n",
      "lr\n",
      "True\n"
     ]
    }
   ],
   "source": [
    "# 倒序取出\n",
    "print(my_list[-5])\n",
    "print(my_list[-4])\n",
    "print(my_list[-1])"
   ]
  },
  {
   "cell_type": "code",
   "execution_count": 35,
   "metadata": {},
   "outputs": [
    {
     "name": "stdout",
     "output_type": "stream",
     "text": [
      "2\n"
     ]
    }
   ],
   "source": [
    "# 取出嵌套列表元素\n",
    "my_list = [[1,2,3], [4,5,6]]\n",
    "print(my_list[0][1])"
   ]
  },
  {
   "attachments": {},
   "cell_type": "markdown",
   "metadata": {},
   "source": [
    "注：注意下标索引的取值范围，超出范围无法取出元素，切记从 0 开始。"
   ]
  },
  {
   "attachments": {},
   "cell_type": "markdown",
   "metadata": {},
   "source": [
    "### 2.2 列表的常用操作\n",
    "\n",
    "> 补充知识\n",
    "> \n",
    "> \n",
    "> 函数 vs. 方法\n",
    "> \n",
    "> \n",
    ">\n",
    "\n",
    "- 查询功能\n",
    "    \n",
    "    功能：查找某指定元素在列表的下标，如果找不到，报错`ValueError`。\n",
    "    \n",
    "    语法：`列表.index(元素)`\n",
    "    \n",
    "    > `index`就是列表对象（变量）内置的方法（函数）。\n",
    "    > \n",
    "- 修改功能\n",
    "    \n",
    "    功能：修改特定位置（索引）的元素值，可对指定下标的值进行重新赋值。\n",
    "    \n",
    "    语法：`列表[下标] = 值`\n",
    "    \n",
    "- 插入功能\n",
    "    \n",
    "    功能：在指定下标位置插入指定元素。\n",
    "    \n",
    "    语法：`列表.insert(下标, 元素)`\n",
    "    \n",
    "- 追加元素\n",
    "    \n",
    "    功能：将指定元素追加到列表尾部。\n",
    "    \n",
    "    语法：`列表.append(元素)`（追加一个），`列表.extend(其他数据容器)`（将其他数据容器中的内容取出，依次追加到列表尾部）\n",
    "    \n",
    "- 删除元素\n",
    "    \n",
    "    语法：`del 列表[下标]`，`列表.pop(下标)`（取出元素并从列表中删除），`列表.remove(元素)`（删除某元素在列表中的第一个匹配项）\n",
    "    \n",
    "- 清空列表\n",
    "    \n",
    "    语法：`列表.clear()`\n",
    "    \n",
    "- 统计某元素在列表中的数量\n",
    "    \n",
    "    语法：`列表.count(元素)`"
   ]
  },
  {
   "cell_type": "code",
   "execution_count": 70,
   "metadata": {},
   "outputs": [
    {
     "name": "stdout",
     "output_type": "stream",
     "text": [
      "['yhz', 'lr', 'xiaomanyao', 666, True]\n",
      "['yhz', 'loves', 'lr', 'xiaomanyao', 666, True]\n",
      "['yhz', 'loves', 'lr', 'xiaomanyao', 666, True, '耶']\n",
      "['yhz', 'loves', 'lr', 'xiaomanyao', 666, True, '耶', 1, 2, 3]\n",
      "['yhz', 'loves', 'lr', 'xiaomanyao', 666, True, '耶', 1, 2]\n",
      "['yhz', 'loves', 'lr', 'xiaomanyao', 666, True, '耶', 1]\n",
      "2\n",
      "['yhz', 'loves', 'lr', 'xiaomanyao', 666, '耶', 1]\n",
      "[]\n",
      "2\n",
      "6\n"
     ]
    }
   ],
   "source": [
    "# 列表常用操作\n",
    "## 查询元素下标\n",
    "my_list = [\"yhz\", \"lr\", \"xmy\", 666, True]\n",
    "my_list.index(\"lr\")\n",
    "\n",
    "## 修改元素\n",
    "my_list[2] = \"xiaomanyao\"\n",
    "print(my_list)\n",
    "\n",
    "## 插入元素\n",
    "my_list.insert(1, \"loves\")\n",
    "print(my_list)\n",
    "\n",
    "## 追加元素\n",
    "my_list.append(\"耶\")\n",
    "print(my_list)\n",
    "\n",
    "## 追加一批元素\n",
    "add_list = [1,2,3]\n",
    "my_list.extend(add_list)\n",
    "print(my_list)\n",
    "\n",
    "## 删除元素\n",
    "del my_list[9]\n",
    "print(my_list)\n",
    "\n",
    "## 从列表中取出元素并将其删除\n",
    "delete = my_list.pop(8)\n",
    "print(my_list)\n",
    "print(delete)\n",
    "\n",
    "## 删除某元素在列表中的第一个匹配项\n",
    "my_list.remove(1) # 豁，1 就是 True 哈！帅的！\n",
    "print(my_list)\n",
    "\n",
    "## 清空列表\n",
    "my_list.clear()\n",
    "print(my_list)\n",
    "\n",
    "## 统计某元素在列表中的数量\n",
    "my_list = [\"yhz\", \"lr\", \"xmy\", 666, True, \"lr\"]\n",
    "count = my_list.count(\"lr\")\n",
    "print(count)\n",
    "\n",
    "## 统计列表中全部元素数量\n",
    "count = len(my_list)\n",
    "print(count)"
   ]
  },
  {
   "attachments": {},
   "cell_type": "markdown",
   "metadata": {},
   "source": [
    "总结：\n",
    "\n",
    "`列表.append(元素)`：向列表中追加一个元素\n",
    "\n",
    "`列表.extend(容器)`：将数据容器的内容依次取出，追加到列表尾部\n",
    "\n",
    "`列表.insert(下标,元素)`：在指定下标处，插入指定的元素\n",
    "\n",
    "`del 列表[下标]`：删除列表指定下标元素\n",
    "\n",
    "`列表.pop(下标)`：删除列表指定下标元素\n",
    "\n",
    "`列表.remove(元素)`：从前向后，删除此元素第一个匹配项\n",
    "\n",
    "`列表.clear()`：清空列表\n",
    "\n",
    "`列表.count(元素)`：统计此元素在列表中出现的次数\n",
    "\n",
    "`列表.index(元素)`：查找指定元素在列表的下标找不到报错 ValueError\n",
    "\n",
    "`len(列表)`：统计容器内有多少元素\n",
    "\n",
    "列表特点：\n",
    "\n",
    "1. 可以容纳多个元素（上限为 2**63-1）\n",
    "2. 可以容纳不同类型的元素（混装）\n",
    "3. 数据是有序存储的（有下标序号）\n",
    "4. 允许重复数据存在\n",
    "5. 可以修改（增加或删除）元素"
   ]
  },
  {
   "attachments": {},
   "cell_type": "markdown",
   "metadata": {},
   "source": [
    "### 2.3 列表的循环遍历\n",
    "\n",
    "遍历：将容器内元素依次取出并处理，称为遍历操作。可使用 while 或 for 循环。\n",
    "\n",
    "> while 循环和 for 循环的对比\n",
    "> \n",
    "> 在循环控制上：\n",
    "> 1. while 循环可以**自定循环条件**，并自行控制\n",
    "> 2. for 循环**不可以**自定循环条件，只可以一个个从容器内取出数据\n",
    "> \n",
    "> 在无限循环上：\n",
    "> 1. while 循环可以通过条件控制做到无限循环\n",
    "> 2. for 循环理论上不可以，因为被遍历的容器容量不是无限的\n",
    "> \n",
    "> 在使用场景上：\n",
    "> 1. while 循环适用于任何想要循环的场景\n",
    "> 2. for 循环适用于遍历数据容器的场景或简单的固定次数循环场景\n",
    ">"
   ]
  },
  {
   "cell_type": "code",
   "execution_count": 71,
   "metadata": {},
   "outputs": [
    {
     "name": "stdout",
     "output_type": "stream",
     "text": [
      "yhz\n",
      "lr\n",
      "xmy\n",
      "666\n",
      "True\n",
      "lr\n"
     ]
    }
   ],
   "source": [
    "# while 循环遍历列表\n",
    "my_list = [\"yhz\", \"lr\", \"xmy\", 666, True, \"lr\"]\n",
    "\n",
    "def list_while(data):\n",
    "    index = 0\n",
    "    while index < len(data):\n",
    "        element = data[index]\n",
    "        print(element)\n",
    "        index += 1\n",
    "\n",
    "list_while(my_list)"
   ]
  },
  {
   "cell_type": "code",
   "execution_count": 72,
   "metadata": {},
   "outputs": [
    {
     "name": "stdout",
     "output_type": "stream",
     "text": [
      "yhz\n",
      "lr\n",
      "xmy\n",
      "666\n",
      "True\n",
      "lr\n"
     ]
    }
   ],
   "source": [
    "# for 循环遍历列表\n",
    "my_list = [\"yhz\", \"lr\", \"xmy\", 666, True, \"lr\"]\n",
    "\n",
    "def list_for(data):\n",
    "    for element in my_list:\n",
    "        print(element)\n",
    "\n",
    "list_for(my_list)"
   ]
  },
  {
   "cell_type": "code",
   "execution_count": 93,
   "metadata": {},
   "outputs": [
    {
     "name": "stdout",
     "output_type": "stream",
     "text": [
      "[2, 4, 6, 8, 10]\n",
      "[2, 4, 6, 8, 10, 2, 4, 6, 8, 10]\n"
     ]
    }
   ],
   "source": [
    "# 练习：遍历取偶数\n",
    "list = [1,2,3,4,5,6,7,8,9,10]\n",
    "new_list = []\n",
    "i = 0\n",
    "while i < len(list):\n",
    "    if list[i] % 2 == 0:\n",
    "        new_list.append(list[i])\n",
    "    i += 1\n",
    "print(new_list)\n",
    "\n",
    "for i in list:\n",
    "    if i % 2 == 0:\n",
    "        new_list.append(i)\n",
    "print(new_list)"
   ]
  },
  {
   "attachments": {},
   "cell_type": "markdown",
   "metadata": {},
   "source": [
    "## 3 元组"
   ]
  },
  {
   "attachments": {},
   "cell_type": "markdown",
   "metadata": {},
   "source": [
    "元组同列表一样，可以封装多个不同类型的元素在内，最大的不同点在于：**元组一旦完成定义，就不可修改**（若是元组中嵌套 list，则 list 中元素可修改）。\n",
    "\n",
    "元组使用`()`定义，且使用`,`隔开各个数据，数据可以是不同数据类型，同样支持嵌套，且支持下标索引，写法相同。\n",
    "\n",
    "注：元组只有一个数据，这个数据后面要**添加逗号**，否则不是元组类型。\n"
   ]
  },
  {
   "cell_type": "code",
   "execution_count": 1,
   "metadata": {},
   "outputs": [
    {
     "name": "stdout",
     "output_type": "stream",
     "text": [
      "('yhz', 'lr', 'xmy', 666, True)\n",
      "<class 'tuple'>\n"
     ]
    }
   ],
   "source": [
    "# 定义元组字面量\n",
    "(\"yhz\", \"lr\", \"xmy\", 666, True)\n",
    "\n",
    "# 定义元组变量\n",
    "my_tuple = (\"yhz\", \"lr\", \"xmy\", 666, True)\n",
    "print(my_tuple)\n",
    "print(type(my_tuple))"
   ]
  },
  {
   "cell_type": "code",
   "execution_count": 3,
   "metadata": {},
   "outputs": [
    {
     "name": "stdout",
     "output_type": "stream",
     "text": [
      "()\n",
      "<class 'tuple'>\n"
     ]
    }
   ],
   "source": [
    "# 定义空元组\n",
    "o_tuple = ()\n",
    "o_tuple = tuple()\n",
    "print(o_tuple)\n",
    "print(type(o_tuple))"
   ]
  },
  {
   "cell_type": "code",
   "execution_count": 6,
   "metadata": {},
   "outputs": [
    {
     "data": {
      "text/plain": [
       "tuple"
      ]
     },
     "execution_count": 6,
     "metadata": {},
     "output_type": "execute_result"
    }
   ],
   "source": [
    "# 定义单个元素的元组，切记后面加逗号\n",
    "single_tuple = (\"hello\",)\n",
    "type(single_tuple)"
   ]
  },
  {
   "cell_type": "code",
   "execution_count": 7,
   "metadata": {},
   "outputs": [
    {
     "name": "stdout",
     "output_type": "stream",
     "text": [
      "666\n"
     ]
    }
   ],
   "source": [
    "# 元组的下标索引\n",
    "my_tuple = ((\"yhz\", \"lr\", \"xmy\"), (666, True))\n",
    "print(my_tuple[1][0])"
   ]
  },
  {
   "attachments": {},
   "cell_type": "markdown",
   "metadata": {},
   "source": [
    "### 3.1 元组的常用操作\n",
    "\n",
    "`index()`：查找某个数据，如果数据存在返回对应的下标，否则报错；\n",
    "\n",
    "`count()`：统计某个数据在当前元组出现的次数；\n",
    "\n",
    "`len(元组)`：统计元组内的元素个数。\n"
   ]
  },
  {
   "cell_type": "code",
   "execution_count": 15,
   "metadata": {},
   "outputs": [
    {
     "data": {
      "text/plain": [
       "6"
      ]
     },
     "execution_count": 15,
     "metadata": {},
     "output_type": "execute_result"
    }
   ],
   "source": [
    "# 元组的常用操作\n",
    "my_tuple = (\"yhz\", \"lr\", \"xmy\", 666, True, \"lr\")\n",
    "\n",
    "## 查找元素对应下标\n",
    "my_tuple.index(666)\n",
    "\n",
    "## 统计元素在当前元组中出现的次数\n",
    "my_tuple.count(\"lr\")\n",
    "\n",
    "## 统计当前元组内元素个数\n",
    "len(my_tuple)"
   ]
  },
  {
   "attachments": {},
   "cell_type": "markdown",
   "metadata": {},
   "source": [
    "### 3.2 元组的循环遍历"
   ]
  },
  {
   "cell_type": "code",
   "execution_count": 17,
   "metadata": {},
   "outputs": [
    {
     "name": "stdout",
     "output_type": "stream",
     "text": [
      "yhz\n",
      "lr\n",
      "xmy\n",
      "666\n",
      "True\n",
      "lr\n",
      "yhz\n",
      "lr\n",
      "xmy\n",
      "666\n",
      "True\n",
      "lr\n"
     ]
    }
   ],
   "source": [
    "# 元组的遍历\n",
    "my_tuple = (\"yhz\", \"lr\", \"xmy\", 666, True, \"lr\")\n",
    "\n",
    "index = 0\n",
    "while index < len(my_tuple):\n",
    "        element = my_tuple[index]\n",
    "        print(element)\n",
    "        index += 1\n",
    "\n",
    "for element in my_tuple:\n",
    "        print(element)"
   ]
  },
  {
   "cell_type": "code",
   "execution_count": 18,
   "metadata": {},
   "outputs": [
    {
     "data": {
      "text/plain": [
       "(['yhz', 'lr', 'xiaomanyao'], 666, True, 'lr')"
      ]
     },
     "execution_count": 18,
     "metadata": {},
     "output_type": "execute_result"
    }
   ],
   "source": [
    "# 元组中嵌套列表，列表中元素可修改\n",
    "my_tuple = ([\"yhz\", \"lr\", \"xmy\"], 666, True, \"lr\")\n",
    "my_tuple[0][2] = \"xiaomanyao\"\n",
    "my_tuple"
   ]
  },
  {
   "attachments": {},
   "cell_type": "markdown",
   "metadata": {},
   "source": [
    "## 4 字符串"
   ]
  },
  {
   "attachments": {},
   "cell_type": "markdown",
   "metadata": {},
   "source": [
    "字符串我们已经很熟悉啦！简单介绍！\n",
    "\n",
    "字符串是字符的容器，一个字符串可以存放任意数量的字符，**只可以存储字符串**，可使用下标索引，同样可遍历。\n",
    "\n",
    "同元组一样，是一个**无法修改**的数据容器。修改、移除、追加指定字符等操作均无法完成，如果必须进行此类操作，只会得到一个新的字符串，旧的字符串无法修改。"
   ]
  },
  {
   "attachments": {},
   "cell_type": "markdown",
   "metadata": {},
   "source": [
    "### 4.1 字符串的常用操作\n",
    "\n",
    "- 查找特定字符串的起始下标索引值。`字符串.index(字符串)`\n",
    "- 替换，将字符串内的全部`字符串1`替换为`字符串2。`注意：不是修改字符串本身，是得到一个**新的字符串。**`字符串.replace(字符串1, 字符串2)`\n",
    "- 分割，按照指定的字符串分隔符，将字符串划分为多个字符串，并存入列表对象中。注意：字符串本身不变，而是得到了一个列表对象。`字符串.split(字符串分隔符)`\n",
    "- 规整操作，`字符串.strip()`去除前后空格，`字符串.strip(字符串)`去除前后指定字符串。\n",
    "- `字符串.count(某字符串)`统计某字符串在字符串中的出现次数，`len(字符串)`统计字符串长度。"
   ]
  },
  {
   "cell_type": "code",
   "execution_count": 27,
   "metadata": {},
   "outputs": [
    {
     "name": "stdout",
     "output_type": "stream",
     "text": [
      "o o\n",
      "5\n",
      "xiao man liu\n",
      "['xiao', 'man', 'yao']\n",
      "<class 'list'>\n"
     ]
    }
   ],
   "source": [
    "# 通过下标索引取值\n",
    "my_str = \"xiao man yao\"\n",
    "value1 = my_str[3]\n",
    "value2 = my_str[-1]\n",
    "print(value1, value2)\n",
    "\n",
    "# 获取元素起始下标\n",
    "index = my_str.index(\"man\")\n",
    "print(index)\n",
    "\n",
    "# 替换\n",
    "new_my_str = my_str.replace(\"yao\", \"liu\")\n",
    "print(new_my_str)\n",
    "\n",
    "# 分割\n",
    "my_str_list = my_str.split(\" \")\n",
    "print(my_str_list)\n",
    "print(type(my_str_list))"
   ]
  },
  {
   "cell_type": "code",
   "execution_count": 39,
   "metadata": {},
   "outputs": [
    {
     "name": "stdout",
     "output_type": "stream",
     "text": [
      "xiao man yao\n",
      "xiao man y\n"
     ]
    }
   ],
   "source": [
    "# 规整操作\n",
    "## 去除前后空格\n",
    "my_str = \"  xiao man yao        \"\n",
    "new_my_str = my_str.strip()\n",
    "print(new_my_str)\n",
    "\n",
    "## 去除前后指定字符串\n",
    "my_str = \"axiao man yao\"\n",
    "new_my_str = my_str.strip(\"ao\")\n",
    "print(new_my_str)"
   ]
  },
  {
   "cell_type": "code",
   "execution_count": 41,
   "metadata": {},
   "outputs": [
    {
     "name": "stdout",
     "output_type": "stream",
     "text": [
      "2\n",
      "12\n"
     ]
    }
   ],
   "source": [
    "# 统计某字符串在字符串中的出现次数\n",
    "my_str = \"xiao man yao\"\n",
    "count = my_str.count(\"ao\")\n",
    "print(count)\n",
    "\n",
    "lenth = len(my_str)\n",
    "print(lenth)"
   ]
  },
  {
   "attachments": {},
   "cell_type": "markdown",
   "metadata": {},
   "source": [
    "总结：\n",
    "\n",
    "`字符串[下标]`：根据下标索引取出特定位置字符；\n",
    "\n",
    "`字符串.index(字符串)`：查找给定字符的第一个匹配项的下标；\n",
    "\n",
    "`字符串.replace(字符串1, 字符串2)`：将字符串内的全部字符串1，替换为字符串2；不会修改原字符串，而是得到一个新的；\n",
    "\n",
    "`字符串.split(字符串)`：按照给定字符串，对字符串进行分隔不会修改原字符串，而是得到一个新的列表；\n",
    "\n",
    "`字符串.strip() / 字符串.strip(字符串)`：移除首尾的空格和换行符或指定字符串；\n",
    "\n",
    "`字符串.count(字符串)`：统计字符串内某字符串的出现次数；\n",
    "\n",
    "`len(字符串)`：统计字符串的字符个数。"
   ]
  },
  {
   "attachments": {},
   "cell_type": "markdown",
   "metadata": {},
   "source": [
    "## 5 序列"
   ]
  },
  {
   "attachments": {},
   "cell_type": "markdown",
   "metadata": {},
   "source": [
    "序列：内容连续、有序，可使用下标索引的一类数据容器。**列表、元组、字符串均可以视为序列。**\n",
    "\n",
    "### 5.1 序列的切片\n",
    "\n",
    "序列支持切片，即列表、元组、字符串，均支持进行切片操作。\n",
    "\n",
    "切片：从一个序列中，取出一个子序列。\n",
    "\n",
    "语法：`序列[起始下标:结束下标:步长]`\n",
    "表示从序列中，从指定位置开始，依次取出元素，到指定位置结束，得到一个新序列：\n",
    "\n",
    "- 起始下标表示从何处开始，可以留空，留空视作从头开始；\n",
    "- 结束下标（不含）表示何处结束，可以留空，留空视作截取到结尾；\n",
    "- 步长表示，依次取元素的间隔\n",
    "    - 步长 1 表示，一个个取元素（步长默认是 1，可以省略不写）\n",
    "    - 步长 2 表示，每次跳过 1 个元素取\n",
    "    - 步长 N 表示，每次跳过 N-1 个元素取\n",
    "    - 步长为负数表示，反向取（注意，起始下标和结束下标也要反向标记）\n",
    "\n",
    "注：此操作不会影响序列本身，而是会得到一个新的序列。"
   ]
  },
  {
   "cell_type": "code",
   "execution_count": 10,
   "metadata": {},
   "outputs": [
    {
     "name": "stdout",
     "output_type": "stream",
     "text": [
      "[1, 2, 3]\n",
      "(0, 2, 4, 6)\n",
      "012, 3, 4,5,6\n",
      "6,5,4 ,3 ,210\n",
      "(6, 5, 4, 3)\n"
     ]
    }
   ],
   "source": [
    "# 切片\n",
    "my_list = [0, 1, 2, 3, 4, 5, 6]\n",
    "result = my_list[1:4] # 步长默认为1，可以省略不写\n",
    "print(result)\n",
    "\n",
    "my_tuple = (0, 1, 2, 3, 4, 5, 6)\n",
    "result = my_tuple[::2] # 起始和结束不写表示从头到尾\n",
    "print(result)\n",
    "\n",
    "my_str = \"012, 3, 4,5,6\"\n",
    "result = my_str[:]\n",
    "print(result)\n",
    "\n",
    "re_result = my_str[::-1]\n",
    "print(re_result)\n",
    "\n",
    "re_result = my_tuple[:2:-1]\n",
    "print(re_result)"
   ]
  },
  {
   "cell_type": "code",
   "execution_count": 18,
   "metadata": {},
   "outputs": [
    {
     "name": "stdout",
     "output_type": "stream",
     "text": [
      "小蛮要\n"
     ]
    }
   ],
   "source": [
    "# 可以传递链式巴拉巴拉\n",
    "my_str = \"小蛮腰,是要要要,润要蛮小,冲啊\"\n",
    "\n",
    "result = my_str.split(\",\")[2].replace(\"润\", \"\")[::-1]\n",
    "print(result)\n"
   ]
  },
  {
   "attachments": {},
   "cell_type": "markdown",
   "metadata": {},
   "source": [
    "## 6 集合"
   ]
  },
  {
   "attachments": {},
   "cell_type": "markdown",
   "metadata": {},
   "source": [
    "为什么需要它嘞！\n",
    "\n",
    "俺们通过特性来看哈：\n",
    "\n",
    "- 列表可修改、支持重复元素且有序\n",
    "- 元组、字符串不可修改、支持重复元素且有序\n",
    "\n",
    "局限性：它们都支持重复元素。如果场景需要对内容做去重处理，列表、元组、字符串就更不方便了。而集合，最主要的特点就是：不支持重复元素（自带去重功能）、且内容无序。\n",
    "\n",
    "和列表、元组、字符串等定义基本相同：\n",
    "\n",
    "- 列表：`[]`\n",
    "- 元组：`()`\n",
    "- 字符串：`””`\n",
    "- 集合：`{}`"
   ]
  },
  {
   "cell_type": "code",
   "execution_count": 20,
   "metadata": {},
   "outputs": [
    {
     "name": "stdout",
     "output_type": "stream",
     "text": [
      "{'xmy', 'yhz', 'lr'}\n",
      "<class 'set'>\n",
      "set()\n",
      "<class 'set'>\n",
      "{}\n",
      "<class 'dict'>\n"
     ]
    }
   ],
   "source": [
    "# 定义集合变量\n",
    "my_set = {\"yhz\", \"lr\", \"xmy\", \"yhz\", \"lr\", \"xmy\", \"yhz\", \"lr\", \"xmy\"}\n",
    "print(my_set)\n",
    "print(type(my_set))\n",
    "\n",
    "# 定义空集合\n",
    "o_set = set()\n",
    "print(o_set)\n",
    "print(type(o_set))\n",
    "\n",
    "o_set = {}\n",
    "print(o_set)\n",
    "print(type(o_set)) # 惊现字典！！！！！"
   ]
  },
  {
   "attachments": {},
   "cell_type": "markdown",
   "metadata": {},
   "source": [
    "### 6.1 集合的常用操作\n",
    "\n",
    "首先，集合是**无序**的，所以集合**不支持下标索引**访问，且**不允许重复数据存在**。但是它和列表一样，允许修改。\n",
    "\n",
    "- 将指定元素添加到集合内（集合本身被修改）。`集合.add(元素)`\n",
    "- 将指定元素从集合内移除（集合本身被修改）。`集合.remove(元素)`\n",
    "- 从集合中随机取出元素，会得到一个元素的结果，同时集合被修改，元素被移除。`集合.pop()`\n",
    "- 清空集合。`集合.clear()`\n",
    "- 取出两个集合的差集，得到一个新集合。`集合1.difference(集合2)`(得到集合 1 有而集合 2 没有的，集合 1 和集合 2 不变)\n",
    "- 消除两个集合的差集。`集合1.difference_update(集合2)`（在集合 1内，删除和集合 2 相同的元素，集合 1 被修改，集合 2 不变）\n",
    "- 合并集合，将集合合并组成新集合，原集合不变。`集合1.union(集合2)`"
   ]
  },
  {
   "cell_type": "code",
   "execution_count": 9,
   "metadata": {},
   "outputs": [
    {
     "name": "stdout",
     "output_type": "stream",
     "text": [
      "{'yhz', 'xmy', 'lr'}\n",
      "{'yhz', 'xmy', 'lr'}\n",
      "{'yhz', 'lr'}\n",
      "yhz\n",
      "{'lr'}\n",
      "set()\n",
      "{1, 2, 3}\n",
      "{0, 2, 5}\n",
      "{1, 3}\n",
      "{1, 3}\n",
      "{0, 2, 5}\n",
      "{0, 1, 2, 3, 5}\n",
      "5\n"
     ]
    }
   ],
   "source": [
    "# 添加元素\n",
    "my_set = {\"yhz\", \"lr\"}\n",
    "my_set.add(\"xmy\")\n",
    "print(my_set)\n",
    "\n",
    "my_set.add(\"lr\") # 添加已有元素会自动去重，相当于没添加\n",
    "print(my_set)\n",
    "\n",
    "# 移除元素\n",
    "my_set.remove(\"xmy\")\n",
    "print(my_set)\n",
    "\n",
    "# 随机取出元素\n",
    "element = my_set.pop()\n",
    "print(element)\n",
    "print(my_set)\n",
    "\n",
    "# 清空集合\n",
    "my_set.clear()\n",
    "print(my_set)\n",
    "\n",
    "# 取两个集合的差集\n",
    "set_1 = {1,2,3}\n",
    "set_2 = {5,2,0}\n",
    "set_3 = set_1.difference(set_2)\n",
    "print(set_1)\n",
    "print(set_2)\n",
    "print(set_3)\n",
    "\n",
    "# 消除两个集合的差集\n",
    "set_1.difference_update(set_2)\n",
    "print(set_1)\n",
    "print(set_2)\n",
    "\n",
    "# 合并集合\n",
    "set_1 = {1,2,3}\n",
    "set_2 = {5,2,0}\n",
    "set_3 = set_1.union(set_2)\n",
    "print(set_3)\n",
    "\n",
    "# 统计集合元素数量\n",
    "print(len(set_3))"
   ]
  },
  {
   "attachments": {},
   "cell_type": "markdown",
   "metadata": {},
   "source": [
    "\n",
    "注：集合不支持下标索引，不能用 while 循环，可以使用 for 循环遍历。"
   ]
  },
  {
   "cell_type": "code",
   "execution_count": 11,
   "metadata": {},
   "outputs": [
    {
     "name": "stdout",
     "output_type": "stream",
     "text": [
      "yhz\n",
      "xmy\n",
      "lr\n"
     ]
    }
   ],
   "source": [
    "# 集合的遍历：集合不支持下标索引，不能用 while 循环，可以使用 for 循环遍历\n",
    "my_set = {\"yhz\", \"lr\", \"xmy\"}\n",
    "\n",
    "for elemnet in my_set:\n",
    "    print(elemnet)"
   ]
  },
  {
   "attachments": {},
   "cell_type": "markdown",
   "metadata": {},
   "source": [
    "总结：\n",
    "\n",
    "`集合.add(元素)`：集合内添加一个元素；\n",
    "\n",
    "`集合.remove(元素)`：移除集合内指定的元素；\n",
    "\n",
    "`集合.pop()`：从集合中随机取出一个元素；\n",
    "\n",
    "`集合.clear()`：将集合清空；\n",
    "\n",
    "`集合1.difference(集合2)`：得到一个新集合，内含2个集合的差集原有的2个集合内容不变；\n",
    "\n",
    "`集合1.difference_update(集合2)`：在集合1中，删除集合2中存在的元素集合1被修改，集合2不变；\n",
    "\n",
    "`集合1.union(集合2)`：得到1个新集合，内含2个集合的全部元素原有的2个集合内容不变；\n",
    "\n",
    "`len(集合)`：得到一个整数，记录了集合的元素数量。"
   ]
  },
  {
   "attachments": {},
   "cell_type": "markdown",
   "metadata": {},
   "source": [
    "## 7 字典"
   ]
  },
  {
   "attachments": {},
   "cell_type": "markdown",
   "metadata": {},
   "source": [
    "字典：同样使用`{}`，不过存储的元素是一个个的**键值对**`{\"key\": value, \"key\": value, \"key\": value}`。\n",
    "\n",
    "字典同集合一样，**不可以使用下标索引**，但可通过`key`来取得对应的`value`。\n",
    "\n",
    "`key`不允许重复，重复添加等同于覆盖原有数据。\n",
    "\n",
    "字典的`key`和`value`可以是任意数据类型（`**key`不可以是字典**），所以，字典是可以嵌套的。"
   ]
  },
  {
   "cell_type": "code",
   "execution_count": 2,
   "metadata": {},
   "outputs": [
    {
     "name": "stdout",
     "output_type": "stream",
     "text": [
      "{'yhz': 99, 'lr': 88, 'xmy': 77}\n",
      "<class 'dict'>\n",
      "{}\n",
      "<class 'dict'>\n",
      "{}\n",
      "<class 'dict'>\n"
     ]
    }
   ],
   "source": [
    "# 定义字典\n",
    "my_dict = {\"yhz\": 99, \"lr\": 88, \"xmy\": 77}\n",
    "print(my_dict)\n",
    "print(type(my_dict))\n",
    "\n",
    "# 定义空字典\n",
    "o_dict = {}\n",
    "print(o_dict)\n",
    "print(type(o_dict))\n",
    "o_dict = dict()\n",
    "print(o_dict)\n",
    "print(type(o_dict))"
   ]
  },
  {
   "cell_type": "code",
   "execution_count": 3,
   "metadata": {},
   "outputs": [
    {
     "name": "stdout",
     "output_type": "stream",
     "text": [
      "88\n"
     ]
    }
   ],
   "source": [
    "# 通过key获取value\n",
    "score = my_dict[\"lr\"]\n",
    "print(score)"
   ]
  },
  {
   "cell_type": "code",
   "execution_count": 5,
   "metadata": {},
   "outputs": [
    {
     "name": "stdout",
     "output_type": "stream",
     "text": [
      "{'yhz': {'history': 33, 'math': 99, 'art': 99}, 'lr': {'history': 99, 'math': 66, 'art': 55}, 'xmy': {'history': 33, 'math': 88, 'art': 77}}\n",
      "66\n"
     ]
    }
   ],
   "source": [
    "# 嵌套字典\n",
    "score_dict = {\n",
    "    \"yhz\":{\n",
    "    \"history\": 33,\n",
    "    \"math\": 99,\n",
    "    \"art\": 99\n",
    "    },\n",
    "    \"lr\":{\n",
    "    \"history\": 99,\n",
    "    \"math\": 66,\n",
    "    \"art\": 55\n",
    "    },\n",
    "    \"xmy\":{\n",
    "    \"history\": 33,\n",
    "    \"math\": 88,\n",
    "    \"art\": 77\n",
    "    }\n",
    "}\n",
    "print(score_dict)\n",
    "\n",
    "# 从嵌套字典中获取信息\n",
    "lr_math = score_dict[\"lr\"][\"math\"]\n",
    "print(lr_math)"
   ]
  },
  {
   "attachments": {},
   "cell_type": "markdown",
   "metadata": {},
   "source": [
    "### 7.1 字典的常用操作\n",
    "\n",
    "- 新增元素同时字典被修改。注意：字典`key`不可以重复，所以对已存在的`key`执行此操作，就是更新`value`。`字典[key] = value`\n",
    "- 更新元素同时字典被修改，操作同上，原因详见上。`字典[key] = value`\n",
    "- 删除元素同时字典被修改，指定key的数据被删除。`字典.pop(key)`\n",
    "- 清空元素同时字典被修改。`字典.clear()`\n",
    "- 获取全部`key`。`字典.keys()`"
   ]
  },
  {
   "cell_type": "code",
   "execution_count": 16,
   "metadata": {},
   "outputs": [
    {
     "name": "stdout",
     "output_type": "stream",
     "text": [
      "{'yhz': 99, 'lr': 88, 'xmy': 77, 'run': 66}\n",
      "{'yhz': 99, 'lr': 88, 'xmy': 33, 'run': 66}\n",
      "33\n",
      "{'yhz': 99, 'lr': 88, 'run': 66}\n",
      "{}\n",
      "dict_keys(['yhz', 'lr', 'xmy'])\n",
      "yhz\n",
      "99\n",
      "lr\n",
      "88\n",
      "xmy\n",
      "77\n",
      "yhz\n",
      "99\n",
      "lr\n",
      "88\n",
      "xmy\n",
      "77\n",
      "3\n"
     ]
    }
   ],
   "source": [
    "# 字典的常用操作\n",
    "my_dict = {\"yhz\": 99, \"lr\": 88, \"xmy\": 77}\n",
    "\n",
    "# 新增元素\n",
    "my_dict[\"run\"] = 66\n",
    "print(my_dict)\n",
    "\n",
    "# 更新元素\n",
    "my_dict[\"xmy\"] = 33\n",
    "print(my_dict)\n",
    "\n",
    "# 删除元素\n",
    "score = my_dict.pop(\"xmy\")\n",
    "print(score)\n",
    "print(my_dict)\n",
    "\n",
    "# 清空元素\n",
    "my_dict.clear()\n",
    "print(my_dict)\n",
    "\n",
    "# 获取全部key\n",
    "my_dict = {\"yhz\": 99, \"lr\": 88, \"xmy\": 77}\n",
    "keys = my_dict.keys()\n",
    "print(keys)\n",
    "\n",
    "# 遍历字典\n",
    "for key in keys:\n",
    "    print(key)\n",
    "    print(my_dict[key])\n",
    "\n",
    "for key in my_dict:\n",
    "    print(key)\n",
    "    print(my_dict[key])\n",
    "\n",
    "# 统计字典内元素数量\n",
    "count = len(my_dict)\n",
    "print(count)"
   ]
  },
  {
   "attachments": {},
   "cell_type": "markdown",
   "metadata": {},
   "source": [
    "总结：\n",
    "\n",
    "`字典[Key]`：获取指定Key对应的Value值；\n",
    "\n",
    "`字典[Key]=Value`：添加或更新键值对；\n",
    "\n",
    "`字典.pop(Key)`：取出Key对应的Value并在字典内删除此Key的键值对；\n",
    "\n",
    "`字典.clear()`：清空字典；\n",
    "\n",
    "`字典.keys()`：获取字典的全部Kev，可用于for循环遍历字典；\n",
    "\n",
    "`len(字典)`：计算字典内的元素数量。"
   ]
  },
  {
   "cell_type": "code",
   "execution_count": 20,
   "metadata": {},
   "outputs": [
    {
     "name": "stdout",
     "output_type": "stream",
     "text": [
      "{'wly': {'bm': 'kjb', 'gz': 3000, 'jb': 1}, 'zjl': {'bm': 'scb', 'gz': 50000, 'jb': 2}, 'ljj': {'bm': 'scb', 'gz': 7000, 'jb': 3}, 'zxy': {'bm': 'kjb', 'gz': 4000, 'jb': 1}, 'ldh': {'bm': 'scb', 'gz': 6000, 'jb': 2}}\n",
      "{'wly': {'bm': 'kjb', 'gz': 4000, 'jb': 2}, 'zjl': {'bm': 'scb', 'gz': 50000, 'jb': 2}, 'ljj': {'bm': 'scb', 'gz': 7000, 'jb': 3}, 'zxy': {'bm': 'kjb', 'gz': 5000, 'jb': 2}, 'ldh': {'bm': 'scb', 'gz': 6000, 'jb': 2}}\n"
     ]
    }
   ],
   "source": [
    "# 练习：升职加薪\n",
    "salary = {\n",
    "    \"wly\":{\n",
    "    \"bm\":\"kjb\",\n",
    "    \"gz\":3000,\n",
    "    \"jb\":1\n",
    "    },\n",
    "    \"zjl\":{\n",
    "    \"bm\":\"scb\",\n",
    "    \"gz\":50000,\n",
    "    \"jb\":2\n",
    "    },\n",
    "    \"ljj\":{\n",
    "    \"bm\":\"scb\",\n",
    "    \"gz\":7000,\n",
    "    \"jb\":3\n",
    "    },\n",
    "    \"zxy\":{\n",
    "    \"bm\":\"kjb\",\n",
    "    \"gz\":4000,\n",
    "    \"jb\":1\n",
    "    },\n",
    "    \"ldh\":{\n",
    "    \"bm\":\"scb\",\n",
    "    \"gz\":6000,\n",
    "    \"jb\":2\n",
    "    },\n",
    "}\n",
    "print(salary)\n",
    "\n",
    "for key in salary:\n",
    "    if salary[key][\"jb\"] == 1:\n",
    "        salary[key][\"gz\"] += 1000\n",
    "        salary[key][\"jb\"] += 1\n",
    "\n",
    "print(salary)"
   ]
  },
  {
   "attachments": {},
   "cell_type": "markdown",
   "metadata": {},
   "source": [
    "\n",
    "## 8 数据容器总结对比\n",
    "\n",
    "|  | 列表 | 元组 | 字符串 | 集合 | 字典 |\n",
    "| --- | --- | --- | --- | --- | --- |\n",
    "| 元素数量 | 支持多个 | 支持多个 | 支持多个 | 支持多个 | 支持多个 |\n",
    "| 元素类型 | 任意 | 任意 | 仅字符 | 任意 | ​Key：Value（Key：除字典外任意类型；Value：任意类型）|\n",
    "| 下标索引 | 支持 | 支持 | 支持 | 不支持 | 不支持 |\n",
    "| 重复元素 | 支持 | 支持 | 支持 | 不支持 | 不支持 |\n",
    "| 可修改性 | 支持 | 不支持 | 不支持 | 支持 | 支持 |\n",
    "| 数据有序 | 是 | 是 | 是 | 否 | 否 |\n",
    "| 使用场景 | 可修改、可重复的一批数据记录场景 | 不可修改、可重复的一批数据记录场景 | 一串字符的记录场景 | 不可重复的数据记录场景 | 以 Key 检索 Value 的数据记录场景 |"
   ]
  },
  {
   "attachments": {},
   "cell_type": "markdown",
   "metadata": {},
   "source": [
    "## 9 数据容器的通用操作"
   ]
  },
  {
   "attachments": {},
   "cell_type": "markdown",
   "metadata": {},
   "source": [
    "数据容器尽管各自有各自的特点，但是它们也有通用的一些操作。\n",
    "\n",
    "1.  首先，在遍历上，5 类数据容器都支持 for 循环遍历。列表、元组、字符串支持 while 循环，集合、字典不支持（无法下标索引）。尽管遍历的形式各有不同，但是，它们**都支持遍历操作**。\n",
    "2. 除了遍历这个共性外，还有超多通用的功能方法。\n",
    "    \n",
    "    `len(容器)`：统计容器的元素个数\n",
    "    \n",
    "    `max(容器)`：统计容器的最大元素\n",
    "    \n",
    "    `min(容器)`：统计容器的最小元素\n",
    "    \n",
    "    `list(容器)`：将给定容器转换为列表\n",
    "    \n",
    "    `str(容器)`：将给定容器转换为字符串\n",
    "    \n",
    "    `tuple(容器)`：将给定容器转换为元组\n",
    "    \n",
    "    `set(容器)`：将给定容器转换为集合\n",
    "    \n",
    "    注：字典转字符串会把`value`保留下来，其他都会只剩`key`。\n",
    "    \n",
    "3. 排序：`sorted(容器, reverse=True)`，将给定容器进行排序。注：排序结果会变成列表。"
   ]
  },
  {
   "cell_type": "code",
   "execution_count": 22,
   "metadata": {},
   "outputs": [
    {
     "name": "stdout",
     "output_type": "stream",
     "text": [
      "3\n",
      "4\n",
      "5\n",
      "5\n",
      "5\n",
      "3\n",
      "4\n",
      "5\n",
      "5\n",
      "key5\n",
      "1\n",
      "1\n",
      "1\n",
      "1\n",
      "key1\n"
     ]
    }
   ],
   "source": [
    "# 除遍历外，还有超多通用的功能方法\n",
    "my_list = [1, 2, 3]\n",
    "my_tuple = (1, 2, 3, 4)\n",
    "my_str = \"12345\"\n",
    "my_set = {1, 2, 3, 4, 5}\n",
    "my_dict = {\"key1\": 1, \"key2\": 2, \"key3\": 3, \"key4\": 4, \"key5\": 5}\n",
    "\n",
    "print(len(my_list))\n",
    "print(len(my_tuple))\n",
    "print(len(my_str))\n",
    "print(len(my_set))\n",
    "print(len(my_dict))\n",
    "\n",
    "print(max(my_list))\n",
    "print(max(my_tuple))\n",
    "print(max(my_str))\n",
    "print(max(my_set))\n",
    "print(max(my_dict))\n",
    "\n",
    "print(min(my_list))\n",
    "print(min(my_tuple))\n",
    "print(min(my_str))\n",
    "print(min(my_set))\n",
    "print(min(my_dict))"
   ]
  },
  {
   "cell_type": "code",
   "execution_count": 26,
   "metadata": {},
   "outputs": [
    {
     "name": "stdout",
     "output_type": "stream",
     "text": [
      "['1', '2', '3', '4', '5']\n",
      "<class 'list'>\n",
      "[1, 2, 3]\n",
      "<class 'str'>\n",
      "(1, 2, 3, 4, 5)\n",
      "<class 'tuple'>\n",
      "{'key1', 'key3', 'key4', 'key2', 'key5'}\n",
      "<class 'set'>\n"
     ]
    }
   ],
   "source": [
    "print(list(my_str))\n",
    "print(type(list(my_str)))\n",
    "\n",
    "print(str(my_list))\n",
    "print(type(str(my_list)))\n",
    "\n",
    "print(tuple(my_set))\n",
    "print(type(tuple(my_set)))\n",
    "\n",
    "print(set(my_dict))\n",
    "print(type(set(my_dict)))"
   ]
  },
  {
   "cell_type": "code",
   "execution_count": 28,
   "metadata": {},
   "outputs": [
    {
     "name": "stdout",
     "output_type": "stream",
     "text": [
      "[0, 2, 3, 4, 5, 7]\n",
      "[7, 5, 4, 3, 2, 0]\n"
     ]
    }
   ],
   "source": [
    "my_set = {4, 5, 3, 7, 0, 2}\n",
    "print(sorted(my_set))\n",
    "print(sorted(my_set, reverse=True))"
   ]
  },
  {
   "attachments": {},
   "cell_type": "markdown",
   "metadata": {},
   "source": [
    "总结：\n",
    "\n",
    "通用for循环：遍历容器(字典是遍历key)；\n",
    "\n",
    "`max()`：容器内最大元素；\n",
    "\n",
    "`min()`：容器内最小元素；\n",
    "\n",
    "`len()`：容器元素个数；\n",
    "\n",
    "`list()`：转换为列表；\n",
    "\n",
    "`tuple()`：转换为元组；\n",
    "\n",
    "`str()`：转换为字符串；\n",
    "\n",
    "`set()`：转换为集合；\n",
    "\n",
    "`sorted(序列, [reverse=True])`：排序，`reverse=True`表示降序得到一个排好序的列表。"
   ]
  }
 ],
 "metadata": {
  "kernelspec": {
   "display_name": "machine_learning",
   "language": "python",
   "name": "python3"
  },
  "language_info": {
   "codemirror_mode": {
    "name": "ipython",
    "version": 3
   },
   "file_extension": ".py",
   "mimetype": "text/x-python",
   "name": "python",
   "nbconvert_exporter": "python",
   "pygments_lexer": "ipython3",
   "version": "3.8.12"
  },
  "orig_nbformat": 4
 },
 "nbformat": 4,
 "nbformat_minor": 2
}
